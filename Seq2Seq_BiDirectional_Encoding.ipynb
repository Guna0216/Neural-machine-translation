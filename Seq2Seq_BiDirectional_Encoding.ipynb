{
 "cells": [
  {
   "cell_type": "markdown",
   "metadata": {},
   "source": [
    "# Sequence - To - Sequence Bi-directional"
   ]
  },
  {
   "cell_type": "code",
   "execution_count": null,
   "metadata": {},
   "outputs": [],
   "source": [
    "# ! pip install torchtext==0.6.0"
   ]
  },
  {
   "cell_type": "code",
   "execution_count": null,
   "metadata": {},
   "outputs": [],
   "source": [
    "# import locale\n",
    "# locale.getpreferredencoding = lambda: \"UTF-8\"\n",
    "\n",
    "# ! pip install -U spacy\n",
    "# ! python -m spacy download fr_core_news_sm\n",
    "# ! python -m spacy download en_core_web_sm"
   ]
  },
  {
   "cell_type": "code",
   "execution_count": 1,
   "metadata": {},
   "outputs": [
    {
     "name": "stderr",
     "output_type": "stream",
     "text": [
      "2023-07-04 07:42:54.232657: I tensorflow/core/platform/cpu_feature_guard.cc:193] This TensorFlow binary is optimized with oneAPI Deep Neural Network Library (oneDNN) to use the following CPU instructions in performance-critical operations:  AVX2 AVX_VNNI FMA\n",
      "To enable them in other operations, rebuild TensorFlow with the appropriate compiler flags.\n",
      "2023-07-04 07:42:54.307860: I tensorflow/core/util/port.cc:104] oneDNN custom operations are on. You may see slightly different numerical results due to floating-point round-off errors from different computation orders. To turn them off, set the environment variable `TF_ENABLE_ONEDNN_OPTS=0`.\n",
      "2023-07-04 07:42:54.634689: W tensorflow/compiler/xla/stream_executor/platform/default/dso_loader.cc:64] Could not load dynamic library 'libnvinfer.so.7'; dlerror: libnvinfer.so.7: cannot open shared object file: No such file or directory\n",
      "2023-07-04 07:42:54.634752: W tensorflow/compiler/xla/stream_executor/platform/default/dso_loader.cc:64] Could not load dynamic library 'libnvinfer_plugin.so.7'; dlerror: libnvinfer_plugin.so.7: cannot open shared object file: No such file or directory\n",
      "2023-07-04 07:42:54.634755: W tensorflow/compiler/tf2tensorrt/utils/py_utils.cc:38] TF-TRT Warning: Cannot dlopen some TensorRT libraries. If you would like to use Nvidia GPU with TensorRT, please make sure the missing libraries mentioned above are installed properly.\n",
      "2023-07-04 07:42:55.001132: I tensorflow/compiler/xla/stream_executor/cuda/cuda_gpu_executor.cc:981] successful NUMA node read from SysFS had negative value (-1), but there must be at least one NUMA node, so returning NUMA node zero\n",
      "2023-07-04 07:42:55.018243: I tensorflow/compiler/xla/stream_executor/cuda/cuda_gpu_executor.cc:981] successful NUMA node read from SysFS had negative value (-1), but there must be at least one NUMA node, so returning NUMA node zero\n",
      "2023-07-04 07:42:55.018348: I tensorflow/compiler/xla/stream_executor/cuda/cuda_gpu_executor.cc:981] successful NUMA node read from SysFS had negative value (-1), but there must be at least one NUMA node, so returning NUMA node zero\n"
     ]
    }
   ],
   "source": [
    "import torch\n",
    "import torchtext\n",
    "\n",
    "import time\n",
    "import numpy as np\n",
    "import pandas as pd\n",
    "import spacy\n",
    "\n",
    "import matplotlib.pyplot as plt\n",
    "import IPython.display as display\n",
    "import random"
   ]
  },
  {
   "cell_type": "code",
   "execution_count": 2,
   "metadata": {},
   "outputs": [],
   "source": [
    "if torch.backends.mps.is_available():\n",
    "    DEVICE = torch.device(device='mps')\n",
    "elif torch.cuda.is_available():\n",
    "    DEVICE = torch.device(device='cuda')\n",
    "else:\n",
    "    DEVICE = torch.device(device='cpu')"
   ]
  },
  {
   "cell_type": "code",
   "execution_count": 3,
   "metadata": {},
   "outputs": [
    {
     "name": "stdout",
     "output_type": "stream",
     "text": [
      "cuda\n"
     ]
    }
   ],
   "source": [
    "print(DEVICE)"
   ]
  },
  {
   "cell_type": "markdown",
   "metadata": {},
   "source": [
    "### Preprocessing"
   ]
  },
  {
   "cell_type": "code",
   "execution_count": 4,
   "metadata": {},
   "outputs": [],
   "source": [
    "spacy_en = spacy.load('en_core_web_sm')\n",
    "spacy_fr = spacy.load('fr_core_news_sm')"
   ]
  },
  {
   "cell_type": "code",
   "execution_count": 5,
   "metadata": {},
   "outputs": [],
   "source": [
    "french = torchtext.data.Field(tokenize= lambda text: [token.text for token in spacy_en.tokenizer(text)],\n",
    "                              lower = True,\n",
    "                              init_token = '<sos>',\n",
    "                              eos_token = '<eos>')\n",
    "\n",
    "english = torchtext.data.Field(tokenize= lambda text: [token.text for token in spacy_fr.tokenizer(text)],\n",
    "                              lower = True,\n",
    "                              init_token = '<sos>',\n",
    "                              eos_token = '<eos>')"
   ]
  },
  {
   "cell_type": "code",
   "execution_count": 6,
   "metadata": {},
   "outputs": [],
   "source": [
    "fields = {\n",
    "    'English': ('eng', english),\n",
    "    'French': ('fre', french)\n",
    "}\n",
    "\n",
    "train_data, test_data = torchtext.data.TabularDataset.splits(\n",
    "    path='data/',\n",
    "    train='train_full.csv',\n",
    "    test = 'test_full.csv',\n",
    "    format='csv',\n",
    "    fields=fields\n",
    ")"
   ]
  },
  {
   "cell_type": "code",
   "execution_count": 7,
   "metadata": {},
   "outputs": [],
   "source": [
    "english.build_vocab(train_data, max_size = 10000, min_freq = 2)\n",
    "french.build_vocab(train_data, max_size = 10000, min_freq = 2)"
   ]
  },
  {
   "cell_type": "code",
   "execution_count": 8,
   "metadata": {},
   "outputs": [],
   "source": [
    "batch_size = 64\n",
    "train_iterator, test_iterator = torchtext.data.BucketIterator.splits(\n",
    "    (train_data, test_data),\n",
    "    batch_size = batch_size,\n",
    "    sort_within_batch = True, # Protizes to have examples are of similar length in a batch, because it reduces padding and save compute.\n",
    "    sort_key = lambda x: len(getattr(x, 'eng')), # Protizes to have examples are of similar length in a batch, because it reduces padding and save compute.\n",
    "    device=DEVICE\n",
    ")"
   ]
  },
  {
   "cell_type": "markdown",
   "metadata": {},
   "source": [
    "### Learning Loops"
   ]
  },
  {
   "cell_type": "code",
   "execution_count": 9,
   "metadata": {},
   "outputs": [],
   "source": [
    "pad_idx = french.vocab.stoi['<pad>']\n",
    "criterion = torch.nn.CrossEntropyLoss(ignore_index=pad_idx)"
   ]
  },
  {
   "cell_type": "code",
   "execution_count": 10,
   "metadata": {},
   "outputs": [],
   "source": [
    "def one_epoch_train(model: torch.nn.Module, data_loader_train: torch.utils.data.DataLoader,\n",
    "                    loss_criterion: torch.nn, optim_alog: torch.optim) -> tuple:\n",
    "    \"\"\"Function that trains the model for one epoch.\n",
    "\n",
    "    Args:\n",
    "        model (torch.nn.Module): Pytorch model we want to train.\n",
    "        data_loader_train (torch.utils.data.DataLoader): Pytorch dataloader that carries training data.\n",
    "        loss_criterion (torch.nn): Pytorch loss criteria on which we calculate loss.\n",
    "        optim_alog (torch.optim): Opimiztion algoritham that we use to update model weights.\n",
    "\n",
    "    Returns:\n",
    "        tuple: Tuple carrying Train loss and accuracy\n",
    "    \"\"\"\n",
    "    batch_loss_train = []\n",
    "    batch_counter = 0\n",
    "    for batch in data_loader_train:\n",
    "        input_text = batch.eng.to(DEVICE).permute(1,0)\n",
    "        target_text = batch.fre.to(DEVICE).permute(1,0)\n",
    "\n",
    "\n",
    "        # Enabling model training.\n",
    "        model.train(True)\n",
    "\n",
    "\n",
    "        #Setting gradients to zero to prevent gradient accumulation.\n",
    "        optim_alog.zero_grad()\n",
    "\n",
    "        # Forward pass.\n",
    "        y_pred_prob = model(input_text, target_text)\n",
    "        \n",
    "        y_pred_prob = y_pred_prob[:,1:,:].reshape(-1, y_pred_prob.shape[2])\n",
    "        target_text = target_text[:, 1:].reshape(-1)\n",
    "\n",
    "        loss = loss_criterion(y_pred_prob, target_text)\n",
    "\n",
    "        batch_loss_train.append(loss.item())\n",
    "\n",
    "        # Back Propagation\n",
    "        loss.backward()\n",
    "\n",
    "        # Gradient clipping to prevent exploding gradients\n",
    "        torch.nn.utils.clip_grad_norm_(model.parameters(), max_norm=1)\n",
    "\n",
    "        # Updating weights\n",
    "        optim_alog.step()\n",
    "        \n",
    "        batch_counter += 1\n",
    "\n",
    "        del(input_text)\n",
    "        del(target_text)\n",
    "\n",
    "    return sum(batch_loss_train)/batch_counter"
   ]
  },
  {
   "cell_type": "code",
   "execution_count": 11,
   "metadata": {},
   "outputs": [],
   "source": [
    "def inference(model: torch.nn.Module, data_loader_val: torch.utils.data.DataLoader, loss_criterion: torch.nn) -> tuple:\n",
    "    \"\"\"Function that calculates test accuracy\n",
    "\n",
    "    Args:\n",
    "        model (torch.nn.Module): Pytorch model we want to make inference on.\n",
    "        data_loader_val (torch.utils.data.DataLoader): Pytorch dataloader that carries validation data.\n",
    "        loss_criterion (torch.nn): Pytorch loss criteria on which we calculate loss.\n",
    "\n",
    "    Returns:\n",
    "        tuple: Tuple carrying Test loss and accuracy\n",
    "    \"\"\"\n",
    "\n",
    "    batch_loss_train = []\n",
    "    batch_counter = 0\n",
    "\n",
    "    for batch in data_loader_val:\n",
    "        input_text = batch.eng.to(DEVICE).permute(1,0)\n",
    "        target_text = batch.fre.to(DEVICE).permute(1,0)\n",
    "\n",
    "        # Disabiling model training.\n",
    "        model.train(False)\n",
    "\n",
    "        with torch.inference_mode():\n",
    "            # Forward Pass\n",
    "            y_pred_prob = model(input_text, target_text)\n",
    "\n",
    "            y_pred_prob = y_pred_prob[:,1:,:].reshape(-1, y_pred_prob.shape[2])\n",
    "            target_text = target_text[:, 1:].reshape(-1)\n",
    "\n",
    "            # Calculating Loss\n",
    "            loss = loss_criterion(y_pred_prob, target_text)\n",
    "            batch_loss_train.append(loss.item())\n",
    "\n",
    "        batch_counter += 1\n",
    "\n",
    "        del(input_text)\n",
    "        del(target_text)\n",
    "\n",
    "    return sum(batch_loss_train)/batch_counter"
   ]
  },
  {
   "cell_type": "code",
   "execution_count": 12,
   "metadata": {},
   "outputs": [],
   "source": [
    "def training_loop(\n",
    "    model: torch.nn.Module,\n",
    "    data_loader_train: torch.utils.data.DataLoader,\n",
    "    data_loader_val: torch.utils.data.DataLoader,\n",
    "    epochs:int,\n",
    "    loss_criterion: torch.nn,\n",
    "    optim_alog: torch.optim,\n",
    "    chkpt_file:str,\n",
    "    final_load_file:str\n",
    ")-> dict:\n",
    "    \"\"\"Function that trains the model for the given number of epochs\n",
    "\n",
    "    Args:\n",
    "        model (torch.nn.Module): Pytorch model we want to train.\n",
    "        data_loader_train (torch.utils.data.DataLoader): Pytorch dataloader that carries training data.\n",
    "        data_loader_val (torch.utils.data.DataLoader): Pytorch dataloader that carries validation data.\n",
    "        epochs (int): Count of EPOCHS\n",
    "        loss_criterion (torch.nn): Pytorch loss criteria on which we calculate loss.\n",
    "        optim_alog (torch.optim): Opimiztion algoritham that we use to update model weights.\n",
    "\n",
    "    Returns:\n",
    "        dict: A dictionary that carries the output metrics.\n",
    "    \"\"\"\n",
    "    start_time = time.time()\n",
    "\n",
    "    loss_train = []\n",
    "    loss_val = []\n",
    "    \n",
    "    best_loss_val = 1e5\n",
    "    # Loop that iterates over each EPOCH\n",
    "    for epoch in range(epochs):\n",
    "\n",
    "        #Train the model for one EPOCH\n",
    "        epoch_loss = one_epoch_train(model, data_loader_train, loss_criterion, optim_alog)\n",
    "        loss_train.append(epoch_loss)\n",
    "\n",
    "        # Caluclating Testing results\n",
    "        val_loss = inference(model, data_loader_val, loss_criterion)\n",
    "        loss_val.append(val_loss)\n",
    "\n",
    "        if val_loss < best_loss_val:\n",
    "            best_loss_val = val_loss\n",
    "            torch.save(model.state_dict(), chkpt_file)\n",
    "\n",
    "        if (epoch+1)%1 == 0:\n",
    "            print('For Epoch {} We Train Loss:{:.4f}, Val Loss:{:.4f}, Time Elapsed:{:.4f} mins'.format(epoch+1, epoch_loss,val_loss, (time.time() - start_time)/60))\n",
    "            \n",
    "    torch.save(model.state_dict(), final_load_file)\n",
    "    return {'training_loss':loss_train, 'val_loss':loss_val}"
   ]
  },
  {
   "cell_type": "code",
   "execution_count": 13,
   "metadata": {},
   "outputs": [],
   "source": [
    "def plot_metrics(epochs: int,metrics: dict) -> None:\n",
    "    \"\"\"Plot the graphs of Training and Testing Accuracy and Loss across Epoches\n",
    "\n",
    "    Args:\n",
    "        epochs (int): Number of Epochs\n",
    "        metrics (dict): A dictionary containing Test and Training datasets' Loss and accuracy\n",
    "    \"\"\"\n",
    "\n",
    "    plt.figure(figsize=(10,10))\n",
    "    plt.plot(list(range(epochs)), metrics['training_loss'])\n",
    "    plt.plot(list(range(epochs)), metrics['val_loss'])\n",
    "    plt.grid()\n",
    "    plt.legend(['Train', 'Test'])\n",
    "    plt.xlabel('Epochs')\n",
    "    plt.ylabel('Loss')\n",
    "    plt.title('Train and Validation loss across epochs')\n",
    "\n",
    "    plt.show()"
   ]
  },
  {
   "cell_type": "code",
   "execution_count": 14,
   "metadata": {},
   "outputs": [],
   "source": [
    "def sentence_translator(model: torch.nn.Module, sentence: str, src_corpus: torchtext.data.Field, tgt_corpus: torchtext.data.Field) -> list:\n",
    "    \"\"\"Given the model and english sentence it will translate the english sentence to french.\n",
    "\n",
    "    Args:\n",
    "        model (torch.nn.Model): Pytorch Model\n",
    "        sentence (str): English sentence\n",
    "        src_corpus (torchtext.data.Field): English Corpus (Source Torchtext data field)\n",
    "        tgt_corpus (torchtext.data.Field): French Corpus (Destination Torchtext data field)\n",
    "\n",
    "    Returns:\n",
    "        list: List of words \n",
    "    \"\"\"\n",
    "    \n",
    "    # Checking If the sentence is string or not.\n",
    "    if isinstance(sentence, str):\n",
    "        tokens = [token.text.lower() for token in spacy_en(sentence)]\n",
    "    else:\n",
    "        tokens = [token.lower() for token in sentence]\n",
    "        \n",
    "    # Attaching <SOS> token at the beginning of the source sentence\n",
    "    tokens.insert(0, src_corpus.init_token)\n",
    "    \n",
    "    # Attaching <EOS> token at the end of the source sentence\n",
    "    tokens.append(src_corpus.eos_token)\n",
    "    \n",
    "    # Converting the soruce text to sentence vector \n",
    "    sentence_vector =[]\n",
    "    for token in tokens:\n",
    "        sentence_vector.append(src_corpus.vocab.stoi[token])\n",
    "        \n",
    "    # Creating a tensor from the vector\n",
    "    sentence_tensor = torch.tensor(sentence_vector, dtype=torch.long).unsqueeze(1).to(DEVICE).permute(1,0)\n",
    "    \n",
    "    # Performing encoding\n",
    "    with torch.inference_mode():\n",
    "        hidden_state, cell_state = model.encoder(sentence_tensor)\n",
    "        \n",
    "    # Attaching <SOS> token at the beginning of the destination sentence. \n",
    "    outputs = [tgt_corpus.vocab.stoi[\"<sos>\"]]\n",
    "    \n",
    "    # Iteration over and producing the sequnce of words of the translated sentence. \n",
    "    for _ in range(30):\n",
    "        \n",
    "        # Getting previous word to pass it to decoder\n",
    "        prev_word = torch.tensor([outputs[-1]], dtype=torch.long).to(DEVICE)\n",
    "        \n",
    "        # Performing Decoding\n",
    "        with torch.inference_mode():\n",
    "            output, hidden_state, cell_state = model.decoder(prev_word, hidden_state, cell_state)\n",
    "            # Predicting the word\n",
    "            word_pred = torch.argmax(output, axis=1).item()\n",
    "            \n",
    "        # Append the Predicted word \n",
    "        outputs.append(word_pred)\n",
    "        \n",
    "        # On reaching end of the sentence break the loop\n",
    "        if word_pred == tgt_corpus.vocab.stoi[\"<eos>\"]:\n",
    "            break\n",
    "    \n",
    "    # Converting translated sentence vector to translated sentence.\n",
    "    translated_sentence = []\n",
    "    for idx in outputs:\n",
    "        translated_sentence.append(tgt_corpus.vocab.itos[idx])\n",
    "\n",
    "    return translated_sentence[1:-1]"
   ]
  },
  {
   "cell_type": "code",
   "execution_count": 15,
   "metadata": {},
   "outputs": [],
   "source": [
    "def score_bleu(\n",
    "    dataset: torchtext.data.TabularDataset.splits,\n",
    "    model: torch.nn.Module,\n",
    "    src_corpus: torchtext.data.Field,\n",
    "    tgt_corpus: torchtext.data.Field\n",
    ") -> int:\n",
    "\n",
    "    \"\"\" Get BLeU score of the given dataset and its translation.\n",
    "\n",
    "    Args:\n",
    "        dataset (torchtext.data.TabularDataset.splits): torch text data set\n",
    "        model (torch.nn.Model): pytorch model\n",
    "        src_corpus (torchtext.data.Field): English Corpus (Source Torchtext data field)\n",
    "        tgt_corpus (torchtext.data.Field): French Corpus (Destination Torchtext data field)\n",
    "\n",
    "    Returns:\n",
    "        int: Bleu score of the translation.\n",
    "    \"\"\"\n",
    "    targets = []\n",
    "    outputs = []\n",
    "\n",
    "    for translation_record in dataset:\n",
    "        source_sentence = vars(translation_record)[\"eng\"]\n",
    "        target_sentence = vars(translation_record)[\"fre\"]\n",
    "\n",
    "        translated_sentence = sentence_translator(model, source_sentence, src_corpus, tgt_corpus)\n",
    "\n",
    "        targets.append([target_sentence])\n",
    "        outputs.append(translated_sentence)\n",
    "\n",
    "    return torchtext.data.metrics.bleu_score(outputs, targets)"
   ]
  },
  {
   "cell_type": "code",
   "execution_count": 16,
   "metadata": {},
   "outputs": [],
   "source": [
    "def score_bleu_by_length(\n",
    "    dataset: torchtext.data.TabularDataset.splits,\n",
    "    model: torch.nn.Module,\n",
    "    src_corpus: torchtext.data.Field,\n",
    "    tgt_corpus: torchtext.data.Field\n",
    ") -> dict:\n",
    "    \"\"\" Get BLeU score of the given dataset and its translation.\n",
    "\n",
    "    Args:\n",
    "        dataset (torchtext.data.TabularDataset.splits): torch text data set\n",
    "        model (torch.nn.Model): pytorch model\n",
    "        src_corpus (torchtext.data.Field): English Corpus (Source Torchtext data field)\n",
    "        tgt_corpus (torchtext.data.Field): French Corpus (Destination Torchtext data field)\n",
    "\n",
    "    Returns:\n",
    "        dict: Bleu score of the translation.\n",
    "    \"\"\"\n",
    "    data_map = {}\n",
    "\n",
    "    for translation_record in dataset:\n",
    "        source_sentence = vars(translation_record)[\"eng\"]\n",
    "        target_sentence = vars(translation_record)[\"fre\"]\n",
    "\n",
    "        translated_sentence = sentence_translator(model, source_sentence, src_corpus, tgt_corpus)\n",
    "        \n",
    "        src_length = len(source_sentence)\n",
    "        \n",
    "        if data_map.get(src_length) is None:\n",
    "            data_map[src_length] = {\n",
    "                \"targets\": [],\n",
    "                \"outputs\": []\n",
    "            }\n",
    "\n",
    "        data_map[src_length][\"targets\"].append([target_sentence])\n",
    "        data_map[src_length][\"outputs\"].append(translated_sentence)\n",
    "    \n",
    "    results = {\n",
    "        \"length\": [],\n",
    "        \"count\": [],\n",
    "        \"bleu_score\": []\n",
    "    }\n",
    "    for length, data in data_map.items():\n",
    "        bleu_score = torchtext.data.metrics.bleu_score(data[\"outputs\"], data[\"targets\"])\n",
    "        \n",
    "        results[\"length\"].append(length)\n",
    "        results[\"count\"].append(len(data[\"targets\"]))\n",
    "        results[\"bleu_score\"].append(bleu_score)\n",
    "        \n",
    "    return results "
   ]
  },
  {
   "cell_type": "markdown",
   "metadata": {},
   "source": [
    "## Model Building"
   ]
  },
  {
   "cell_type": "markdown",
   "metadata": {},
   "source": [
    "#### Encoder"
   ]
  },
  {
   "cell_type": "code",
   "execution_count": 17,
   "metadata": {},
   "outputs": [],
   "source": [
    "class Encoder(torch.nn.Module):\n",
    "    \"\"\"\n",
    "    Encode the original sentence to context vector\n",
    "    \n",
    "    Args:\n",
    "        input_size (int): Input Dimension\n",
    "        embedding_size (int): Word Embedding Size\n",
    "        hidden_size (int): RNN Output Size\n",
    "        num_layers (int): Num of Layers of RNN\n",
    "        droput_prob (float): Dropout Probability\n",
    "    \"\"\"\n",
    "    def __init__(\n",
    "        self,\n",
    "        input_size: int,\n",
    "        embedding_size: int,\n",
    "        hidden_size: int,\n",
    "        num_layers: int,\n",
    "        droput_prob: float\n",
    "    ):\n",
    "        super(Encoder, self).__init__()\n",
    "        self.hidden_size = hidden_size\n",
    "        self.num_layers = num_layers\n",
    "\n",
    "        self.dropout = torch.nn.Dropout(droput_prob)\n",
    "        self.embedding = torch.nn.Embedding(input_size, embedding_size)\n",
    "\n",
    "        self.lstm = torch.nn.LSTM(embedding_size, hidden_size, num_layers, batch_first=True, \n",
    "                                  bidirectional = True, dropout=droput_prob)\n",
    "        \n",
    "        self.linear_hidden = torch.nn.Linear(hidden_size*2, hidden_size)\n",
    "        self.linear_cell = torch.nn.Linear(hidden_size*2, hidden_size)\n",
    "\n",
    "    def forward(self, x):\n",
    "        word_embedding = self.dropout(self.embedding(x))\n",
    "\n",
    "        _ , (hidden_state, cell_state) = self.lstm(word_embedding)\n",
    "        \n",
    "        hidden_state = torch.cat((\n",
    "            hidden_state[0:self.num_layers],\n",
    "            hidden_state[self.num_layers:2*self.num_layers]\n",
    "        ), dim=2)\n",
    "        hidden_state = self.linear_hidden(hidden_state)\n",
    "        \n",
    "        cell_state = torch.cat((\n",
    "            cell_state[0:self.num_layers],\n",
    "            cell_state[self.num_layers:2*self.num_layers]\n",
    "        ), dim=2)\n",
    "        cell_state = self.linear_cell(cell_state)\n",
    "        \n",
    "        return hidden_state, cell_state"
   ]
  },
  {
   "cell_type": "markdown",
   "metadata": {},
   "source": [
    "#### Decoder"
   ]
  },
  {
   "cell_type": "code",
   "execution_count": 18,
   "metadata": {},
   "outputs": [],
   "source": [
    "class Decoder(torch.nn.Module):\n",
    "    \"\"\"\n",
    "    Decode the context vector to target sentence word by word\n",
    "    \n",
    "    Args:\n",
    "        input_size (int): Input Dimension\n",
    "        embedding_size (int): Word Embedding Size\n",
    "        hidden_size (int): RNN Output Size\n",
    "        output_size (int): Target language Vocab Size\n",
    "        num_layers (int): Num of Layers of RNN\n",
    "        droput_prob (float): Dropout Probability\n",
    "    \"\"\"\n",
    "    def __init__(\n",
    "        self,\n",
    "        input_size: int,\n",
    "        embedding_size: int,\n",
    "        hidden_size: int,\n",
    "        output_size: int,\n",
    "        num_layers: int,\n",
    "        droput_prob: float\n",
    "    ):\n",
    "        super(Decoder, self).__init__()\n",
    "        self.hidden_size = hidden_size\n",
    "        self.num_layers = num_layers\n",
    "\n",
    "        self.droput = torch.nn.Dropout(droput_prob)\n",
    "        self.embedding = torch.nn.Embedding(input_size, embedding_size)\n",
    "\n",
    "        self.lstm = torch.nn.LSTM(embedding_size, hidden_size, num_layers, batch_first=True, dropout=droput_prob)\n",
    "        self.linear = torch.nn.Linear(hidden_size, output_size)\n",
    "\n",
    "    def forward(self, x, hidden_state, cell_state):\n",
    "        x = x.unsqueeze(1)\n",
    "\n",
    "        word_embedding = self.droput(self.embedding(x))\n",
    "        \n",
    "        output, (hidden_state, cell_state) = self.lstm(word_embedding, (hidden_state, cell_state))\n",
    "\n",
    "        pred = self.linear(output)        \n",
    "        pred = pred.squeeze(1)\n",
    "     \n",
    "        return pred, hidden_state, cell_state"
   ]
  },
  {
   "cell_type": "markdown",
   "metadata": {},
   "source": [
    "#### Seq-2-Seq"
   ]
  },
  {
   "cell_type": "code",
   "execution_count": 19,
   "metadata": {},
   "outputs": [],
   "source": [
    "class Seq2Seq(torch.nn.Module):\n",
    "    \"\"\"\n",
    "    Takes Src texts and translates into target word by word\n",
    "    \n",
    "    Args:\n",
    "        input_size_encoder (int): Encoder Input Dimension\n",
    "        encoder_embedding_size (int): Encoder Word Embedding Size\n",
    "        input_size_decoder (int): Decoder Input Dimension\n",
    "        decoder_embedding_size (int): Decoder Word Embedding Size\n",
    "        hidden_size (int): RNN Output Size\n",
    "        output_size (int): Target language Vocab Size\n",
    "        num_layers (int): Num of Layers of RNN\n",
    "        encoder_dropout (float): Encoder Dropout Probability\n",
    "        decoder_dropout (float): Decoder Dropout Probability\n",
    "        word_alignment_ratio(float): Word Alignment Ratio\n",
    "    \"\"\"\n",
    "    def __init__(\n",
    "        self,\n",
    "        input_size_encoder: int,\n",
    "        encoder_embedding_size: int,\n",
    "        input_size_decoder: int ,\n",
    "        decoder_embedding_size: int,\n",
    "        hidden_size: int, \n",
    "        num_layers: int,\n",
    "        output_size: int,\n",
    "        encoder_dropout: float,\n",
    "        decoder_dropout: float,\n",
    "        word_alignment_ratio=0.6\n",
    "    ):\n",
    "        \n",
    "        super(Seq2Seq, self).__init__()\n",
    "\n",
    "        self.encoder = Encoder(\n",
    "            input_size_encoder,\n",
    "            encoder_embedding_size,\n",
    "            hidden_size,\n",
    "            num_layers,\n",
    "            encoder_dropout\n",
    "        ).to(DEVICE)\n",
    "\n",
    "        self.decoder = Decoder(\n",
    "            input_size_decoder,\n",
    "            decoder_embedding_size,\n",
    "            hidden_size,\n",
    "            output_size,\n",
    "            num_layers,\n",
    "            decoder_dropout\n",
    "        ).to(DEVICE)\n",
    "        \n",
    "        # Probability Mass Function defined for the word_selection we should choose\n",
    "        self.next_word_selection_actions = [\n",
    "            'Guess',\n",
    "            'Truth'\n",
    "        ]\n",
    "        self.next_word_selection_probability_distribution = [\n",
    "            word_alignment_ratio,\n",
    "            1 - word_alignment_ratio\n",
    "        ]\n",
    "\n",
    "    def forward(self, src_text, tgt_text):\n",
    "        batch_size = src_text.shape[0]\n",
    "        target_len = tgt_text.shape[1]\n",
    "        target_vocab_size = len(french.vocab)\n",
    "\n",
    "        outputs = torch.zeros(batch_size, target_len,target_vocab_size).to(device=DEVICE)\n",
    "\n",
    "        hidden_state, cell_state = self.encoder(src_text)\n",
    "        \n",
    "        # Grab Start Token\n",
    "        x = tgt_text[:,0]\n",
    "\n",
    "        for t in range(1, target_len):\n",
    "            output, hidden_state, cell_state = self.decoder(x, hidden_state, cell_state)\n",
    "            outputs[:, t, :] = output\n",
    "            \n",
    "            # Sampling type word to select based on the above defined Probability Mass Function.\n",
    "            word_to_choose = np.random.choice(\n",
    "                a = self.next_word_selection_actions,\n",
    "                size = 1, \n",
    "                p= self.next_word_selection_probability_distribution\n",
    "            )\n",
    "            \n",
    "            if word_to_choose == 'Guess':\n",
    "                x = torch.argmax(output, dim=1)\n",
    "            else:\n",
    "                x = tgt_text[:,t]\n",
    "\n",
    "\n",
    "        return outputs"
   ]
  },
  {
   "cell_type": "code",
   "execution_count": 20,
   "metadata": {},
   "outputs": [],
   "source": [
    "seq_2_seq_model = Seq2Seq(\n",
    "    input_size_encoder=len(english.vocab),\n",
    "    encoder_embedding_size = 300, \n",
    "    input_size_decoder = len(french.vocab),\n",
    "    decoder_embedding_size = 300,\n",
    "    hidden_size = 512, \n",
    "    num_layers = 2,\n",
    "    output_size = len(french.vocab),\n",
    "    encoder_dropout = 0.5,\n",
    "    decoder_dropout = 0.5\n",
    ").to(DEVICE)"
   ]
  },
  {
   "cell_type": "code",
   "execution_count": 21,
   "metadata": {},
   "outputs": [],
   "source": [
    "chkpt_file = 'saved_files/bidirectional_best.pt'\n",
    "final_load_file = 'saved_files/bidirectional_final.pt'"
   ]
  },
  {
   "cell_type": "code",
   "execution_count": 22,
   "metadata": {},
   "outputs": [],
   "source": [
    "EPOCHS = 50\n",
    "optimizer = torch.optim.Adam(seq_2_seq_model.parameters(), lr=3e-4)"
   ]
  },
  {
   "cell_type": "code",
   "execution_count": 23,
   "metadata": {},
   "outputs": [
    {
     "name": "stdout",
     "output_type": "stream",
     "text": [
      "For Epoch 1 We Train Loss:4.6388, Val Loss:3.9407, Time Elapsed:2.6123 mins\n",
      "For Epoch 2 We Train Loss:3.7265, Val Loss:3.3916, Time Elapsed:5.2854 mins\n",
      "For Epoch 3 We Train Loss:3.2700, Val Loss:3.0381, Time Elapsed:7.9065 mins\n",
      "For Epoch 4 We Train Loss:2.9559, Val Loss:2.7925, Time Elapsed:10.6022 mins\n",
      "For Epoch 5 We Train Loss:2.7104, Val Loss:2.5666, Time Elapsed:13.2789 mins\n",
      "For Epoch 6 We Train Loss:2.5224, Val Loss:2.4611, Time Elapsed:15.9338 mins\n",
      "For Epoch 7 We Train Loss:2.3658, Val Loss:2.3680, Time Elapsed:18.5553 mins\n",
      "For Epoch 8 We Train Loss:2.2342, Val Loss:2.2332, Time Elapsed:21.1885 mins\n",
      "For Epoch 9 We Train Loss:2.1226, Val Loss:2.2156, Time Elapsed:23.7990 mins\n",
      "For Epoch 10 We Train Loss:2.0252, Val Loss:2.1510, Time Elapsed:26.4377 mins\n",
      "For Epoch 11 We Train Loss:1.9396, Val Loss:2.1112, Time Elapsed:29.0466 mins\n",
      "For Epoch 12 We Train Loss:1.8586, Val Loss:2.0787, Time Elapsed:31.6575 mins\n",
      "For Epoch 13 We Train Loss:1.8001, Val Loss:2.0557, Time Elapsed:34.2673 mins\n",
      "For Epoch 14 We Train Loss:1.7341, Val Loss:2.0199, Time Elapsed:36.8815 mins\n",
      "For Epoch 15 We Train Loss:1.6835, Val Loss:1.9813, Time Elapsed:39.5321 mins\n",
      "For Epoch 16 We Train Loss:1.6316, Val Loss:1.9962, Time Elapsed:42.1530 mins\n",
      "For Epoch 17 We Train Loss:1.5863, Val Loss:1.9567, Time Elapsed:44.7374 mins\n",
      "For Epoch 18 We Train Loss:1.5427, Val Loss:1.9622, Time Elapsed:47.3195 mins\n",
      "For Epoch 19 We Train Loss:1.4982, Val Loss:1.9343, Time Elapsed:49.9050 mins\n",
      "For Epoch 20 We Train Loss:1.4643, Val Loss:1.9557, Time Elapsed:52.4925 mins\n",
      "For Epoch 21 We Train Loss:1.4333, Val Loss:1.8956, Time Elapsed:55.1339 mins\n",
      "For Epoch 22 We Train Loss:1.3915, Val Loss:1.8982, Time Elapsed:57.7221 mins\n",
      "For Epoch 23 We Train Loss:1.3655, Val Loss:1.8839, Time Elapsed:60.3781 mins\n",
      "For Epoch 24 We Train Loss:1.3401, Val Loss:1.9292, Time Elapsed:63.0024 mins\n",
      "For Epoch 25 We Train Loss:1.3066, Val Loss:1.9609, Time Elapsed:65.6366 mins\n",
      "For Epoch 26 We Train Loss:1.2847, Val Loss:1.9074, Time Elapsed:68.2924 mins\n",
      "For Epoch 27 We Train Loss:1.2568, Val Loss:1.9526, Time Elapsed:71.0245 mins\n",
      "For Epoch 28 We Train Loss:1.2396, Val Loss:1.9167, Time Elapsed:73.7630 mins\n",
      "For Epoch 29 We Train Loss:1.2211, Val Loss:1.9043, Time Elapsed:76.3702 mins\n",
      "For Epoch 30 We Train Loss:1.1990, Val Loss:1.9451, Time Elapsed:78.9617 mins\n",
      "For Epoch 31 We Train Loss:1.1768, Val Loss:1.8872, Time Elapsed:81.6174 mins\n",
      "For Epoch 32 We Train Loss:1.1594, Val Loss:1.9090, Time Elapsed:84.2092 mins\n",
      "For Epoch 33 We Train Loss:1.1405, Val Loss:1.9504, Time Elapsed:86.8098 mins\n",
      "For Epoch 34 We Train Loss:1.1237, Val Loss:1.9476, Time Elapsed:89.4155 mins\n",
      "For Epoch 35 We Train Loss:1.1073, Val Loss:1.9391, Time Elapsed:92.0405 mins\n",
      "For Epoch 36 We Train Loss:1.0904, Val Loss:1.9415, Time Elapsed:94.7138 mins\n",
      "For Epoch 37 We Train Loss:1.0716, Val Loss:1.9527, Time Elapsed:97.3457 mins\n",
      "For Epoch 38 We Train Loss:1.0596, Val Loss:1.9195, Time Elapsed:100.0348 mins\n",
      "For Epoch 39 We Train Loss:1.0496, Val Loss:1.9059, Time Elapsed:102.6761 mins\n",
      "For Epoch 40 We Train Loss:1.0387, Val Loss:1.9273, Time Elapsed:105.3263 mins\n",
      "For Epoch 41 We Train Loss:1.0182, Val Loss:1.9536, Time Elapsed:107.9703 mins\n",
      "For Epoch 42 We Train Loss:1.0114, Val Loss:1.9383, Time Elapsed:110.6105 mins\n",
      "For Epoch 43 We Train Loss:1.0014, Val Loss:1.9630, Time Elapsed:113.2634 mins\n",
      "For Epoch 44 We Train Loss:0.9834, Val Loss:1.9750, Time Elapsed:116.0511 mins\n",
      "For Epoch 45 We Train Loss:0.9708, Val Loss:1.9528, Time Elapsed:119.1309 mins\n",
      "For Epoch 46 We Train Loss:0.9641, Val Loss:1.9606, Time Elapsed:122.2156 mins\n",
      "For Epoch 47 We Train Loss:0.9475, Val Loss:2.0100, Time Elapsed:125.3022 mins\n",
      "For Epoch 48 We Train Loss:0.9440, Val Loss:1.9942, Time Elapsed:128.3870 mins\n",
      "For Epoch 49 We Train Loss:0.9359, Val Loss:2.0005, Time Elapsed:131.4937 mins\n",
      "For Epoch 50 We Train Loss:0.9259, Val Loss:2.0064, Time Elapsed:134.5902 mins\n"
     ]
    }
   ],
   "source": [
    "output_metrics = training_loop(\n",
    "    model = seq_2_seq_model,\n",
    "    data_loader_train = train_iterator,\n",
    "    data_loader_val = test_iterator,\n",
    "    epochs = EPOCHS,\n",
    "    loss_criterion = criterion,\n",
    "    optim_alog = optimizer,\n",
    "    chkpt_file = chkpt_file,\n",
    "    final_load_file = final_load_file\n",
    ")"
   ]
  },
  {
   "cell_type": "code",
   "execution_count": 24,
   "metadata": {},
   "outputs": [
    {
     "data": {
      "image/png": "[encoded data removed]",
      "text/plain": [
       "<Figure size 1000x1000 with 1 Axes>"
      ]
     },
     "metadata": {},
     "output_type": "display_data"
    }
   ],
   "source": [
    "plot_metrics(EPOCHS, output_metrics)"
   ]
  },
  {
   "cell_type": "code",
   "execution_count": 25,
   "metadata": {},
   "outputs": [
    {
     "name": "stdout",
     "output_type": "stream",
     "text": [
      "Test BLEU Score:0.36593355704993386\n"
     ]
    }
   ],
   "source": [
    "print('Test BLEU Score:{0}'.format(score_bleu(test_data, seq_2_seq_model, english, french)))"
   ]
  },
  {
   "cell_type": "code",
   "execution_count": 28,
   "metadata": {},
   "outputs": [],
   "source": [
    "metrics_df = pd.DataFrame(output_metrics)\n",
    "metrics_df.to_csv('saved_files/bidirectional_metrics.csv')"
   ]
  },
  {
   "cell_type": "code",
   "execution_count": 29,
   "metadata": {},
   "outputs": [],
   "source": [
    "bleu_score_results = score_bleu_by_length(test_data, seq_2_seq_model, english, french)\n",
    "bleu_score_results_df = pd.DataFrame(bleu_score_results)\n",
    "bleu_score_results_df.to_csv('saved_files/bidirectional_bleu.csv')"
   ]
  },
  {
   "cell_type": "code",
   "execution_count": 30,
   "metadata": {},
   "outputs": [
    {
     "data": {
      "image/png": "[encoded data removed]",
      "text/plain": [
       "<Figure size 640x480 with 1 Axes>"
      ]
     },
     "metadata": {},
     "output_type": "display_data"
    }
   ],
   "source": [
    "plt.figure()\n",
    "plt.scatter(bleu_score_results_df[\"length\"], bleu_score_results_df[\"bleu_score\"])\n",
    "plt.ylabel(\"Bleu Score\")\n",
    "plt.xlabel(\"Sentence Length\")\n",
    "plt.show()"
   ]
  },
  {
   "cell_type": "code",
   "execution_count": null,
   "metadata": {},
   "outputs": [],
   "source": [
    "# print('Train BLEU Score:{0}'.format(score_bleu(train_data, seq_2_seq_model, english, french)))"
   ]
  },
  {
   "cell_type": "markdown",
   "metadata": {},
   "source": []
  }
 ],
 "metadata": {
  "kernelspec": {
   "display_name": "Python 3 (ipykernel)",
   "language": "python",
   "name": "python3"
  },
  "language_info": {
   "codemirror_mode": {
    "name": "ipython",
    "version": 3
   },
   "file_extension": ".py",
   "mimetype": "text/x-python",
   "name": "python",
   "nbconvert_exporter": "python",
   "pygments_lexer": "ipython3",
   "version": "3.10.6"
  }
 },
 "nbformat": 4,
 "nbformat_minor": 2
}
