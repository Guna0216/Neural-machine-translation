{
 "cells": [
  {
   "cell_type": "markdown",
   "metadata": {},
   "source": [
    "# Sequence - To - Sequence with Attention"
   ]
  },
  {
   "cell_type": "code",
   "execution_count": null,
   "metadata": {},
   "outputs": [],
   "source": [
    "# ! pip install torchtext==0.6.0"
   ]
  },
  {
   "cell_type": "code",
   "execution_count": null,
   "metadata": {},
   "outputs": [],
   "source": [
    "# import locale\n",
    "# locale.getpreferredencoding = lambda: \"UTF-8\"\n",
    "\n",
    "# ! pip install -U spacy\n",
    "# ! python3 -m spacy download fr_core_news_sm\n",
    "# ! python3 -m spacy download en_core_web_sm"
   ]
  },
  {
   "cell_type": "code",
   "execution_count": 1,
   "metadata": {},
   "outputs": [
    {
     "name": "stderr",
     "output_type": "stream",
     "text": [
      "2023-07-05 00:22:05.298334: I tensorflow/core/platform/cpu_feature_guard.cc:193] This TensorFlow binary is optimized with oneAPI Deep Neural Network Library (oneDNN) to use the following CPU instructions in performance-critical operations:  AVX2 AVX_VNNI FMA\n",
      "To enable them in other operations, rebuild TensorFlow with the appropriate compiler flags.\n",
      "2023-07-05 00:22:05.374755: I tensorflow/core/util/port.cc:104] oneDNN custom operations are on. You may see slightly different numerical results due to floating-point round-off errors from different computation orders. To turn them off, set the environment variable `TF_ENABLE_ONEDNN_OPTS=0`.\n",
      "2023-07-05 00:22:05.687802: W tensorflow/compiler/xla/stream_executor/platform/default/dso_loader.cc:64] Could not load dynamic library 'libnvinfer.so.7'; dlerror: libnvinfer.so.7: cannot open shared object file: No such file or directory\n",
      "2023-07-05 00:22:05.687833: W tensorflow/compiler/xla/stream_executor/platform/default/dso_loader.cc:64] Could not load dynamic library 'libnvinfer_plugin.so.7'; dlerror: libnvinfer_plugin.so.7: cannot open shared object file: No such file or directory\n",
      "2023-07-05 00:22:05.687836: W tensorflow/compiler/tf2tensorrt/utils/py_utils.cc:38] TF-TRT Warning: Cannot dlopen some TensorRT libraries. If you would like to use Nvidia GPU with TensorRT, please make sure the missing libraries mentioned above are installed properly.\n",
      "2023-07-05 00:22:06.038659: I tensorflow/compiler/xla/stream_executor/cuda/cuda_gpu_executor.cc:981] successful NUMA node read from SysFS had negative value (-1), but there must be at least one NUMA node, so returning NUMA node zero\n",
      "2023-07-05 00:22:06.054161: I tensorflow/compiler/xla/stream_executor/cuda/cuda_gpu_executor.cc:981] successful NUMA node read from SysFS had negative value (-1), but there must be at least one NUMA node, so returning NUMA node zero\n",
      "2023-07-05 00:22:06.054271: I tensorflow/compiler/xla/stream_executor/cuda/cuda_gpu_executor.cc:981] successful NUMA node read from SysFS had negative value (-1), but there must be at least one NUMA node, so returning NUMA node zero\n"
     ]
    }
   ],
   "source": [
    "import torch\n",
    "import torchtext\n",
    "\n",
    "import numpy as np\n",
    "import pandas as pd\n",
    "import spacy\n",
    "import time\n",
    "\n",
    "import matplotlib.pyplot as plt\n",
    "import IPython.display as display\n",
    "import random"
   ]
  },
  {
   "cell_type": "code",
   "execution_count": 2,
   "metadata": {},
   "outputs": [],
   "source": [
    "if torch.backends.mps.is_available():\n",
    "    DEVICE = torch.device(device='mps')\n",
    "elif torch.cuda.is_available():\n",
    "    DEVICE = torch.device(device='cuda')\n",
    "else:\n",
    "    DEVICE = torch.device(device='cpu')"
   ]
  },
  {
   "cell_type": "code",
   "execution_count": 3,
   "metadata": {},
   "outputs": [
    {
     "name": "stdout",
     "output_type": "stream",
     "text": [
      "cuda\n"
     ]
    }
   ],
   "source": [
    "print(DEVICE)"
   ]
  },
  {
   "cell_type": "markdown",
   "metadata": {},
   "source": [
    "### Preprocessing"
   ]
  },
  {
   "cell_type": "code",
   "execution_count": 4,
   "metadata": {},
   "outputs": [],
   "source": [
    "spacy_en = spacy.load('en_core_web_sm')\n",
    "spacy_fr = spacy.load('fr_core_news_sm')"
   ]
  },
  {
   "cell_type": "code",
   "execution_count": 5,
   "metadata": {},
   "outputs": [],
   "source": [
    "french = torchtext.data.Field(tokenize= lambda text: [token.text for token in spacy_en.tokenizer(text)],\n",
    "                              lower = True,\n",
    "                              init_token = '<sos>',\n",
    "                              eos_token = '<eos>')\n",
    "\n",
    "english = torchtext.data.Field(tokenize= lambda text: [token.text for token in spacy_fr.tokenizer(text)],\n",
    "                              lower = True,\n",
    "                              init_token = '<sos>',\n",
    "                              eos_token = '<eos>')"
   ]
  },
  {
   "cell_type": "code",
   "execution_count": 6,
   "metadata": {},
   "outputs": [],
   "source": [
    "fields = {\n",
    "    'English': ('eng', english),\n",
    "    'French': ('fre', french)\n",
    "\n",
    "}\n",
    "\n",
    "train_data, test_data = torchtext.data.TabularDataset.splits(\n",
    "    path='data/',\n",
    "    train='train_full.csv',\n",
    "    test = 'test_full.csv',\n",
    "    format='csv',\n",
    "    fields=fields\n",
    ")"
   ]
  },
  {
   "cell_type": "code",
   "execution_count": 7,
   "metadata": {},
   "outputs": [],
   "source": [
    "english.build_vocab(train_data, max_size = 10000, min_freq = 2)\n",
    "french.build_vocab(train_data, max_size = 10000, min_freq = 2)"
   ]
  },
  {
   "cell_type": "code",
   "execution_count": 8,
   "metadata": {},
   "outputs": [],
   "source": [
    "batch_size = 64\n",
    "train_iterator, test_iterator = torchtext.data.BucketIterator.splits(\n",
    "    (train_data, test_data),\n",
    "    batch_size = batch_size,\n",
    "    sort_within_batch = True, # Protizes to have examples are of similar length in a batch, because it reduces padding and save compute.\n",
    "    sort_key = lambda x: len(getattr(x, 'eng')), # Protizes to have examples are of similar length in a batch, because it reduces padding and save compute.\n",
    "    device=DEVICE\n",
    ")"
   ]
  },
  {
   "cell_type": "markdown",
   "metadata": {},
   "source": [
    "### Learning Loops"
   ]
  },
  {
   "cell_type": "code",
   "execution_count": 9,
   "metadata": {},
   "outputs": [],
   "source": [
    "pad_idx = french.vocab.stoi['<pad>']\n",
    "criterion = torch.nn.CrossEntropyLoss(ignore_index=pad_idx)"
   ]
  },
  {
   "cell_type": "code",
   "execution_count": 10,
   "metadata": {},
   "outputs": [],
   "source": [
    "def one_epoch_train(\n",
    "    model: torch.nn.Module,\n",
    "    data_loader_train: torch.utils.data.DataLoader,\n",
    "    loss_criterion: torch.nn, \n",
    "    optim_alog: torch.optim\n",
    ") -> float:\n",
    "    \"\"\"Function that trains the model for one epoch.\n",
    "\n",
    "    Args:\n",
    "        model (torch.nn.Module): Pytorch model we want to train.\n",
    "        data_loader_train (torch.utils.data.DataLoader): Pytorch dataloader that carries training data.\n",
    "        loss_criterion (torch.nn): Pytorch loss criteria on which we calculate loss.\n",
    "        optim_alog (torch.optim): Opimiztion algoritham that we use to update model weights.\n",
    "\n",
    "    Returns:\n",
    "        float: Carrying Train loss\n",
    "    \"\"\"\n",
    "    batch_loss_train = []\n",
    "    batch_counter = 0\n",
    "    for batch in data_loader_train:\n",
    "        input_text = batch.eng.to(DEVICE)\n",
    "        target_text = batch.fre.to(DEVICE)\n",
    "\n",
    "\n",
    "        # Enabling model training.\n",
    "        model.train(True)\n",
    "\n",
    "\n",
    "        #Setting gradients to zero to prevent gradient accumulation.\n",
    "        optim_alog.zero_grad()\n",
    "\n",
    "        # Forward pass.\n",
    "        y_pred_prob = model(input_text, target_text)\n",
    "\n",
    "        y_pred_prob = y_pred_prob[1:].reshape(-1, y_pred_prob.shape[2])\n",
    "        target_text = target_text[1:].reshape(-1)\n",
    "\n",
    "        loss = loss_criterion(y_pred_prob, target_text)\n",
    "\n",
    "        batch_loss_train.append(loss.item())\n",
    "\n",
    "        # Back Propagation\n",
    "        loss.backward()\n",
    "\n",
    "        # Gradient clipping to prevent exploding gradients\n",
    "        torch.nn.utils.clip_grad_norm_(model.parameters(), max_norm=1)\n",
    "\n",
    "        # Updating weights\n",
    "        optim_alog.step()\n",
    "        \n",
    "        batch_counter += 1\n",
    "\n",
    "        del(input_text)\n",
    "        del(target_text)\n",
    "\n",
    "    return sum(batch_loss_train)/batch_counter"
   ]
  },
  {
   "cell_type": "code",
   "execution_count": 11,
   "metadata": {},
   "outputs": [],
   "source": [
    "def inference(\n",
    "    model: torch.nn.Module,\n",
    "    data_loader_val: torch.utils.data.DataLoader,\n",
    "    loss_criterion: torch.nn\n",
    ") -> float:\n",
    "    \"\"\"Function that calculates test accuracy\n",
    "\n",
    "    Args:\n",
    "        model (torch.nn.Module): Pytorch model we want to make inference on.\n",
    "        data_loader_val (torch.utils.data.DataLoader): Pytorch dataloader that carries validation data.\n",
    "        loss_criterion (torch.nn): Pytorch loss criteria on which we calculate loss.\n",
    "\n",
    "    Returns:\n",
    "        float: Carrying Train loss\n",
    "    \"\"\"\n",
    "\n",
    "    batch_loss_train = []\n",
    "    batch_counter = 0\n",
    "\n",
    "    for batch in data_loader_val:\n",
    "        input_text = batch.eng.to(DEVICE)\n",
    "        target_text = batch.fre.to(DEVICE)\n",
    "\n",
    "        # Disabiling model training.\n",
    "        model.train(False)\n",
    "\n",
    "        with torch.inference_mode():\n",
    "            # Forward Pass\n",
    "            y_pred_prob = model(input_text, target_text)\n",
    "\n",
    "            y_pred_prob = y_pred_prob[1:].reshape(-1, y_pred_prob.shape[2])\n",
    "            target_text = target_text[1:].reshape(-1)\n",
    "\n",
    "            # Calculating Loss\n",
    "            loss = loss_criterion(y_pred_prob, target_text)\n",
    "            batch_loss_train.append(loss.item())\n",
    "\n",
    "        batch_counter += 1\n",
    "\n",
    "        del(input_text)\n",
    "        del(target_text)\n",
    "\n",
    "    return sum(batch_loss_train)/batch_counter"
   ]
  },
  {
   "cell_type": "code",
   "execution_count": 12,
   "metadata": {},
   "outputs": [],
   "source": [
    "def training_loop(\n",
    "    model: torch.nn.Module,\n",
    "    data_loader_train: torch.utils.data.DataLoader,\n",
    "    data_loader_val: torch.utils.data.DataLoader,\n",
    "    epochs:int,\n",
    "    loss_criterion: torch.nn,\n",
    "    optim_alog: torch.optim,\n",
    "    chkpt_file:str,\n",
    "    final_load_file:str\n",
    ")-> dict:\n",
    "    \"\"\"Function that trains the model for the given number of epochs\n",
    "\n",
    "    Args:\n",
    "        model (torch.nn.Module): Pytorch model we want to train.\n",
    "        data_loader_train (torch.utils.data.DataLoader): Pytorch dataloader that carries training data.\n",
    "        data_loader_val (torch.utils.data.DataLoader): Pytorch dataloader that carries validation data.\n",
    "        epochs (int): Count of EPOCHS\n",
    "        loss_criterion (torch.nn): Pytorch loss criteria on which we calculate loss.\n",
    "        optim_alog (torch.optim): Opimiztion algoritham that we use to update model weights.\n",
    "\n",
    "    Returns:\n",
    "        dict: A dictionary that carries the output metrics.\n",
    "    \"\"\"\n",
    "    start_time = time.time()\n",
    "\n",
    "    loss_train = []\n",
    "    loss_val = []\n",
    "    \n",
    "    best_loss_val = 1e5\n",
    "    # Loop that iterates over each EPOCH\n",
    "    for epoch in range(epochs):\n",
    "\n",
    "        #Train the model for one EPOCH\n",
    "        epoch_loss = one_epoch_train(model, data_loader_train, loss_criterion, optim_alog)\n",
    "        loss_train.append(epoch_loss)\n",
    "\n",
    "        # Caluclating Testing results\n",
    "        val_loss = inference(model, data_loader_val, loss_criterion)\n",
    "        loss_val.append(val_loss)\n",
    "\n",
    "        if val_loss < best_loss_val:\n",
    "            best_loss_val = val_loss\n",
    "            torch.save(model.state_dict(), chkpt_file)\n",
    "\n",
    "        if (epoch+1)%1 == 0:\n",
    "            print('For Epoch {} We Train Loss:{:.4f}, Val Loss:{:.4f}, Time Elapsed:{:.4f} mins'.format(epoch+1, epoch_loss,val_loss, (time.time() - start_time)/60))\n",
    "            \n",
    "    torch.save(model.state_dict(), final_load_file)\n",
    "    return {'training_loss':loss_train, 'val_loss':loss_val}"
   ]
  },
  {
   "cell_type": "code",
   "execution_count": 13,
   "metadata": {},
   "outputs": [],
   "source": [
    "def plot_metrics(\n",
    "    epochs: int,\n",
    "    metrics: dict\n",
    ") -> None:\n",
    "    \"\"\"Plot the graphs of Training and Testing Accuracy and Loss across Epoches\n",
    "\n",
    "    Args:\n",
    "        epochs (int): Number of Epochs\n",
    "        metrics (dict): A dictionary containing Test and Training datasets' Loss and accuracy\n",
    "    \"\"\"\n",
    "\n",
    "    plt.figure(figsize=(10,10))\n",
    "    plt.plot(list(range(epochs)), metrics['training_loss'])\n",
    "    plt.plot(list(range(epochs)), metrics['val_loss'])\n",
    "    plt.grid()\n",
    "    plt.legend(['Train', 'Test'])\n",
    "    plt.xlabel('Epochs')\n",
    "    plt.ylabel('Loss')\n",
    "    plt.title('Train and Validation loss across epochs')\n",
    "\n",
    "    plt.show()"
   ]
  },
  {
   "cell_type": "code",
   "execution_count": 14,
   "metadata": {},
   "outputs": [],
   "source": [
    "def sentence_translator(\n",
    "    model: torch.nn.Module,\n",
    "    sentence: str,\n",
    "    src_corpus: torchtext.data.Field,\n",
    "    tgt_corpus: torchtext.data.Field\n",
    ") -> list:\n",
    "    \"\"\"Given the model and english sentence it will translate the english sentence to french.\n",
    "\n",
    "    Args:\n",
    "        model (torch.nn.Model): Pytorch Model\n",
    "        sentence (str): English sentence\n",
    "        src_corpus (torchtext.data.Field): English Corpus (Source Torchtext data field)\n",
    "        tgt_corpus (torchtext.data.Field): French Corpus (Destination Torchtext data field)\n",
    "\n",
    "    Returns:\n",
    "        list: List of words \n",
    "    \"\"\"\n",
    "    \n",
    "    # Checking If the sentence is string or not.\n",
    "    if isinstance(sentence, str):\n",
    "        tokens = [token.text.lower() for token in spacy_en(sentence)]\n",
    "    else:\n",
    "        tokens = [token.lower() for token in sentence]\n",
    "        \n",
    "    # Attaching <SOS> token at the beginning of the source sentence\n",
    "    tokens.insert(0, src_corpus.init_token)\n",
    "    \n",
    "    # Attaching <EOS> token at the end of the source sentence\n",
    "    tokens.append(src_corpus.eos_token)\n",
    "    \n",
    "    # Converting the soruce text to sentence vector \n",
    "    sentence_vector = [src_corpus.vocab.stoi[token] for token in tokens]\n",
    "    \n",
    "    # Creating a tensor from the vector\n",
    "    sentence_tensor = torch.LongTensor(sentence_vector).unsqueeze(1).to(DEVICE)\n",
    "    \n",
    "    # Performing encoding\n",
    "    with torch.inference_mode():\n",
    "        enc_output , hidden_state, cell_state = model.encoder(sentence_tensor)\n",
    "        \n",
    "    # Attaching <SOS> token at the beginning of the destination sentence. \n",
    "    outputs = [tgt_corpus.vocab.stoi[\"<sos>\"]]\n",
    "    \n",
    "    # Iteration over and producing the sequnce of words of the translated sentence. \n",
    "    for _ in range(50):\n",
    "        \n",
    "        # Getting previous word to pass it to decoder\n",
    "        previous_word = torch.LongTensor([outputs[-1]]).to(DEVICE)\n",
    "        \n",
    "        # Performing Decoding\n",
    "        with torch.inference_mode():\n",
    "            output, hidden_state, cell_state = model.decoder(previous_word, enc_output, hidden_state, cell_state)\n",
    "            # Predicting the word\n",
    "            word_pred = torch.argmax(output, axis=1).item()\n",
    "            \n",
    "        # Append the Predicted word \n",
    "        outputs.append(word_pred)\n",
    "        \n",
    "        # On reaching end of the sentence break the loop\n",
    "        if torch.argmax(output, axis=1).item() == tgt_corpus.vocab.stoi[\"<eos>\"]:\n",
    "            break\n",
    "    \n",
    "    # Converting translated sentence vector to translated sentence.\n",
    "    translated_sentence = [tgt_corpus.vocab.itos[idx] for idx in outputs]\n",
    "\n",
    "    return translated_sentence[1:]"
   ]
  },
  {
   "cell_type": "code",
   "execution_count": 15,
   "metadata": {},
   "outputs": [],
   "source": [
    "def score_bleu(\n",
    "    dataset: torchtext.data.TabularDataset.splits,\n",
    "    model: torch.nn.Module,\n",
    "    src_corpus: torchtext.data.Field,\n",
    "    tgt_corpus: torchtext.data.Field\n",
    ") -> int:\n",
    "    \"\"\" Get BLeU score of the given dataset and its translation.\n",
    "\n",
    "    Args:\n",
    "        dataset (torchtext.data.TabularDataset.splits): torch text data set\n",
    "        model (torch.nn.Model): pytorch model\n",
    "        src_corpus (torchtext.data.Field): English Corpus (Source Torchtext data field)\n",
    "        tgt_corpus (torchtext.data.Field): French Corpus (Destination Torchtext data field)\n",
    "\n",
    "    Returns:\n",
    "        int: Bleu score of the translation.\n",
    "    \"\"\"\n",
    "    targets = []\n",
    "    outputs = []\n",
    "\n",
    "    for translation_record in dataset:\n",
    "        source_sentence = vars(translation_record)[\"eng\"]\n",
    "        target_sentence = vars(translation_record)[\"fre\"]\n",
    "\n",
    "        translated_sentence = sentence_translator(model, source_sentence, src_corpus, tgt_corpus)\n",
    "        translated_sentence = translated_sentence[:-1]\n",
    "\n",
    "        targets.append([target_sentence])\n",
    "        outputs.append(translated_sentence)\n",
    "\n",
    "    return torchtext.data.metrics.bleu_score(outputs, targets)"
   ]
  },
  {
   "cell_type": "code",
   "execution_count": 16,
   "metadata": {},
   "outputs": [],
   "source": [
    "def score_bleu_by_length(\n",
    "    dataset: torchtext.data.TabularDataset.splits,\n",
    "    model: torch.nn.Module,\n",
    "    src_corpus: torchtext.data.Field,\n",
    "    tgt_corpus: torchtext.data.Field\n",
    ") -> dict:\n",
    "    \"\"\" Get BLeU score of the given dataset and its translation.\n",
    "\n",
    "    Args:\n",
    "        dataset (torchtext.data.TabularDataset.splits): torch text data set\n",
    "        model (torch.nn.Model): pytorch model\n",
    "        src_corpus (torchtext.data.Field): English Corpus (Source Torchtext data field)\n",
    "        tgt_corpus (torchtext.data.Field): French Corpus (Destination Torchtext data field)\n",
    "\n",
    "    Returns:\n",
    "        int: Bleu score of the translation.\n",
    "    \"\"\"\n",
    "    data_map = {}\n",
    "\n",
    "    for translation_record in dataset:\n",
    "        source_sentence = vars(translation_record)[\"eng\"]\n",
    "        target_sentence = vars(translation_record)[\"fre\"]\n",
    "\n",
    "        translated_sentence = sentence_translator(model, source_sentence, src_corpus, tgt_corpus)\n",
    "        translated_sentence = translated_sentence[:-1]\n",
    "        \n",
    "        src_length = len(source_sentence)\n",
    "        \n",
    "        if data_map.get(src_length) is None:\n",
    "            data_map[src_length] = {\n",
    "                \"targets\": [],\n",
    "                \"outputs\": []\n",
    "            }\n",
    "\n",
    "        data_map[src_length][\"targets\"].append([target_sentence])\n",
    "        data_map[src_length][\"outputs\"].append(translated_sentence)\n",
    "    \n",
    "    results = {\n",
    "        \"length\": [],\n",
    "        \"count\": [],\n",
    "        \"bleu_score\": []\n",
    "    }\n",
    "    for length, data in data_map.items():\n",
    "        bleu_score = torchtext.data.metrics.bleu_score(data[\"outputs\"], data[\"targets\"])\n",
    "        \n",
    "        results[\"length\"].append(length)\n",
    "        results[\"count\"].append(len(data[\"targets\"]))\n",
    "        results[\"bleu_score\"].append(bleu_score)\n",
    "        \n",
    "    return results "
   ]
  },
  {
   "cell_type": "markdown",
   "metadata": {},
   "source": [
    "## Model Building"
   ]
  },
  {
   "cell_type": "markdown",
   "metadata": {},
   "source": [
    "#### Encoder"
   ]
  },
  {
   "cell_type": "code",
   "execution_count": 17,
   "metadata": {},
   "outputs": [],
   "source": [
    "class Encoder(torch.nn.Module):\n",
    "    def __init__(self, input_size, word_embedding_size, output_size, num_layers, droput_prob):\n",
    "        super(Encoder, self).__init__()\n",
    "        self.hidden_size = output_size\n",
    "        self.num_layers = num_layers\n",
    "\n",
    "        self.dropout = torch.nn.Dropout(droput_prob)\n",
    "        self.embedding = torch.nn.Embedding(input_size, word_embedding_size)\n",
    "\n",
    "        self.lstm = torch.nn.LSTM(word_embedding_size, output_size, num_layers, bidirectional = True)\n",
    "\n",
    "        self.linear_hidden = torch.nn.Linear(output_size*2, output_size)\n",
    "        self.linear_cell = torch.nn.Linear(output_size*2, output_size)\n",
    "\n",
    "    def forward(self, x):\n",
    "        word_embedding = self.dropout(self.embedding(x))\n",
    "\n",
    "        encoder_output , (hidden_state, cell_state) = self.lstm(word_embedding)\n",
    "        hidden_state = self.linear_hidden(torch.cat((hidden_state[0:1], hidden_state[1:2]), dim=2))\n",
    "        cell_state = self.linear_cell(torch.cat((cell_state[0:1], cell_state[1:2]), dim=2))\n",
    "\n",
    "        return encoder_output, hidden_state, cell_state"
   ]
  },
  {
   "cell_type": "markdown",
   "metadata": {},
   "source": [
    "#### Decoder"
   ]
  },
  {
   "cell_type": "code",
   "execution_count": 18,
   "metadata": {},
   "outputs": [],
   "source": [
    "class Decoder(torch.nn.Module):\n",
    "    def __init__(self, input_size, embedding_size, hidden_size, output_size, num_layers, droput_prob):\n",
    "        super(Decoder, self).__init__()\n",
    "        self.hidden_size = hidden_size\n",
    "        self.num_layers = num_layers\n",
    "\n",
    "        self.droput = torch.nn.Dropout(droput_prob)\n",
    "        self.embedding = torch.nn.Embedding(input_size, embedding_size)\n",
    "\n",
    "        self.lstm = torch.nn.LSTM((hidden_size*2)+embedding_size, hidden_size, num_layers)\n",
    "\n",
    "        self.energy = torch.nn.Linear(hidden_size*3, 1)\n",
    "        self.softmax = torch.nn.Softmax(dim=0)\n",
    "\n",
    "        self.linear = torch.nn.Linear(hidden_size, output_size)\n",
    "\n",
    "    def forward(self, x, encoder_output, hidden_state, cell_state):\n",
    "        # X shape = (batch_size) -> (1,batch_size) because we are predicting one word at a time\n",
    "        x = x.unsqueeze(0)\n",
    "\n",
    "        word_embedding = self.droput(self.embedding(x))\n",
    "\n",
    "        # Embedding shape: (1,batch_size,embedding_size)\n",
    "\n",
    "        seq_len = encoder_output.shape[0]\n",
    "\n",
    "        h_reshape = hidden_state.repeat(seq_len, 1, 1)\n",
    "        \n",
    "        energy = torch.nn.functional.relu(self.energy(torch.cat((h_reshape, encoder_output), dim=2)))\n",
    "        # attention_shape = (seq_len, batch_size, 1)\n",
    "        attention = self.softmax(energy)\n",
    "        # attention_shape = (batch_size, 1, seq_len)\n",
    "        attention = attention.permute(1,2,0)\n",
    "\n",
    "        # Enoder output shape = (batch_size,1,seq_len) -> (batch_size,seq_len, hidden_size*2)\n",
    "        encoder_output = encoder_output.permute(1,0,2)\n",
    "\n",
    "        # Encoder states\n",
    "        # (batch_size , 1 hidden_size*2) -> (1, batch_size, hidden_size*2)\n",
    "        context_vector = torch.bmm(attention, encoder_output).permute(1,0,2)\n",
    "\n",
    "        rnn_input = torch.cat((context_vector, word_embedding), dim=2)\n",
    "\n",
    "        output, (hidden_state, cell_state) = self.lstm(rnn_input, (hidden_state, cell_state))\n",
    "        # Shape of output: (1,batch_size, hidden_size)\n",
    "\n",
    "        pred = self.linear(output)\n",
    "        #Shape of pred: (1, batch_size, length_of_vocabulary)\n",
    "        pred = pred.squeeze(0)\n",
    "\n",
    "        return pred, hidden_state, cell_state"
   ]
  },
  {
   "cell_type": "markdown",
   "metadata": {},
   "source": [
    "#### Seq-2-Seq"
   ]
  },
  {
   "cell_type": "code",
   "execution_count": 19,
   "metadata": {},
   "outputs": [],
   "source": [
    "class Seq2Seq(torch.nn.Module):\n",
    "    def __init__(\n",
    "        self,\n",
    "        input_size_encoder,\n",
    "        encoder_embedding_size,\n",
    "        input_size_decoder,\n",
    "        decoder_embedding_size,\n",
    "        hidden_size, \n",
    "        num_layers,\n",
    "        output_size,\n",
    "        encoder_dropout,\n",
    "        decoder_dropout,\n",
    "        word_alignment_ratio=0.6\n",
    "    ):\n",
    "        super(Seq2Seq, self).__init__()\n",
    "        \n",
    "        self.word_alignment_ratio = word_alignment_ratio\n",
    "        self.encoder = Encoder(\n",
    "            input_size_encoder,\n",
    "            encoder_embedding_size,\n",
    "            hidden_size,\n",
    "            num_layers,\n",
    "            encoder_dropout\n",
    "        ).to(DEVICE)\n",
    "\n",
    "        self.decoder = Decoder(\n",
    "            input_size_decoder,\n",
    "            decoder_embedding_size,\n",
    "            hidden_size,\n",
    "            output_size,\n",
    "            num_layers,\n",
    "            decoder_dropout\n",
    "        ).to(DEVICE)\n",
    "\n",
    "    def forward(self, src_text, target_text):\n",
    "        batch_size = src_text.shape[1]\n",
    "        # Src_text = (target_len, batch_size)\n",
    "        target_len = target_text.shape[0]\n",
    "        target_vocab_size = len(french.vocab)\n",
    "\n",
    "        outputs = torch.zeros(target_len, batch_size, target_vocab_size).to(device=DEVICE)\n",
    "\n",
    "        encoder_ouput, hidden_state, cell_state = self.encoder(src_text)\n",
    "\n",
    "        # Grab Start Token\n",
    "        x = target_text[0]\n",
    "\n",
    "        for t in range(1, target_len):\n",
    "            output, hidden_state, cell_state = self.decoder(x, encoder_ouput, hidden_state, cell_state)\n",
    "            outputs[t] = output\n",
    "            # outputs size = (batch_size, target_vocab_size)\n",
    "            \n",
    "            if random.random() < self.word_alignment_ratio:\n",
    "                x = target_text[t]\n",
    "            else:\n",
    "                x = output.argmax(1)\n",
    "        return outputs"
   ]
  },
  {
   "cell_type": "code",
   "execution_count": 20,
   "metadata": {},
   "outputs": [],
   "source": [
    "seq_2_seq_model = Seq2Seq(\n",
    "    input_size_encoder=len(english.vocab),\n",
    "    encoder_embedding_size = 300, \n",
    "    input_size_decoder = len(french.vocab),\n",
    "    decoder_embedding_size = 300,\n",
    "    hidden_size = 512,\n",
    "    num_layers = 1,\n",
    "    output_size = len(french.vocab),\n",
    "    encoder_dropout = 0.6,\n",
    "    decoder_dropout = 0.6\n",
    ").to(DEVICE)"
   ]
  },
  {
   "cell_type": "code",
   "execution_count": 21,
   "metadata": {},
   "outputs": [],
   "source": [
    "chkpt_file = 'saved_files/attention_full_best_512_0.5_0.6.pt'\n",
    "final_load_file = 'saved_files/attention_full_final_512_0.5_0.6.pt'"
   ]
  },
  {
   "cell_type": "code",
   "execution_count": 22,
   "metadata": {},
   "outputs": [],
   "source": [
    "EPOCHS = 50\n",
    "optimizer = torch.optim.Adam(seq_2_seq_model.parameters(), lr=3e-4)"
   ]
  },
  {
   "cell_type": "code",
   "execution_count": 23,
   "metadata": {},
   "outputs": [
    {
     "name": "stdout",
     "output_type": "stream",
     "text": [
      "For Epoch 1 We Train Loss:4.5177, Val Loss:3.7616, Time Elapsed:2.3546 mins\n",
      "For Epoch 2 We Train Loss:3.5659, Val Loss:3.2001, Time Elapsed:4.6985 mins\n",
      "For Epoch 3 We Train Loss:3.1376, Val Loss:2.8565, Time Elapsed:7.0278 mins\n",
      "For Epoch 4 We Train Loss:2.8490, Val Loss:2.6346, Time Elapsed:9.3959 mins\n",
      "For Epoch 5 We Train Loss:2.6215, Val Loss:2.4819, Time Elapsed:11.7559 mins\n",
      "For Epoch 6 We Train Loss:2.4472, Val Loss:2.3461, Time Elapsed:14.1222 mins\n",
      "For Epoch 7 We Train Loss:2.3011, Val Loss:2.2223, Time Elapsed:16.4811 mins\n",
      "For Epoch 8 We Train Loss:2.1820, Val Loss:2.1583, Time Elapsed:18.8442 mins\n",
      "For Epoch 9 We Train Loss:2.0720, Val Loss:2.0784, Time Elapsed:21.2126 mins\n",
      "For Epoch 10 We Train Loss:1.9787, Val Loss:2.0524, Time Elapsed:23.5896 mins\n",
      "For Epoch 11 We Train Loss:1.9034, Val Loss:1.9936, Time Elapsed:25.9732 mins\n",
      "For Epoch 12 We Train Loss:1.8412, Val Loss:1.9366, Time Elapsed:28.3869 mins\n",
      "For Epoch 13 We Train Loss:1.7751, Val Loss:1.8908, Time Elapsed:30.8082 mins\n",
      "For Epoch 14 We Train Loss:1.7193, Val Loss:1.9096, Time Elapsed:33.2574 mins\n",
      "For Epoch 15 We Train Loss:1.6621, Val Loss:1.8648, Time Elapsed:35.6878 mins\n",
      "For Epoch 16 We Train Loss:1.6222, Val Loss:1.8887, Time Elapsed:38.1307 mins\n",
      "For Epoch 17 We Train Loss:1.5783, Val Loss:1.8180, Time Elapsed:40.5886 mins\n",
      "For Epoch 18 We Train Loss:1.5394, Val Loss:1.7957, Time Elapsed:43.0522 mins\n",
      "For Epoch 19 We Train Loss:1.4979, Val Loss:1.7777, Time Elapsed:45.5156 mins\n",
      "For Epoch 20 We Train Loss:1.4694, Val Loss:1.7664, Time Elapsed:48.0121 mins\n",
      "For Epoch 21 We Train Loss:1.4367, Val Loss:1.7512, Time Elapsed:50.4896 mins\n",
      "For Epoch 22 We Train Loss:1.4026, Val Loss:1.7697, Time Elapsed:52.9624 mins\n",
      "For Epoch 23 We Train Loss:1.3763, Val Loss:1.7319, Time Elapsed:55.4230 mins\n",
      "For Epoch 24 We Train Loss:1.3490, Val Loss:1.7706, Time Elapsed:57.9570 mins\n",
      "For Epoch 25 We Train Loss:1.3247, Val Loss:1.7168, Time Elapsed:60.4561 mins\n",
      "For Epoch 26 We Train Loss:1.2934, Val Loss:1.7589, Time Elapsed:62.9493 mins\n",
      "For Epoch 27 We Train Loss:1.2786, Val Loss:1.7372, Time Elapsed:65.4177 mins\n",
      "For Epoch 28 We Train Loss:1.2576, Val Loss:1.6912, Time Elapsed:67.8714 mins\n",
      "For Epoch 29 We Train Loss:1.2332, Val Loss:1.7116, Time Elapsed:70.3705 mins\n",
      "For Epoch 30 We Train Loss:1.2181, Val Loss:1.6965, Time Elapsed:72.8444 mins\n",
      "For Epoch 31 We Train Loss:1.1913, Val Loss:1.6761, Time Elapsed:75.3547 mins\n",
      "For Epoch 32 We Train Loss:1.1742, Val Loss:1.7124, Time Elapsed:77.8362 mins\n",
      "For Epoch 33 We Train Loss:1.1578, Val Loss:1.7048, Time Elapsed:80.2877 mins\n",
      "For Epoch 34 We Train Loss:1.1310, Val Loss:1.6812, Time Elapsed:82.7369 mins\n",
      "For Epoch 35 We Train Loss:1.1236, Val Loss:1.6909, Time Elapsed:85.1835 mins\n",
      "For Epoch 36 We Train Loss:1.1094, Val Loss:1.6986, Time Elapsed:87.6457 mins\n",
      "For Epoch 37 We Train Loss:1.0955, Val Loss:1.6831, Time Elapsed:90.1592 mins\n",
      "For Epoch 38 We Train Loss:1.0862, Val Loss:1.6994, Time Elapsed:92.5941 mins\n",
      "For Epoch 39 We Train Loss:1.0624, Val Loss:1.6731, Time Elapsed:95.0302 mins\n",
      "For Epoch 40 We Train Loss:1.0523, Val Loss:1.6763, Time Elapsed:97.3902 mins\n",
      "For Epoch 41 We Train Loss:1.0395, Val Loss:1.7027, Time Elapsed:99.7984 mins\n",
      "For Epoch 42 We Train Loss:1.0236, Val Loss:1.7214, Time Elapsed:102.1407 mins\n",
      "For Epoch 43 We Train Loss:1.0081, Val Loss:1.6656, Time Elapsed:104.4800 mins\n",
      "For Epoch 44 We Train Loss:0.9981, Val Loss:1.6952, Time Elapsed:106.8066 mins\n",
      "For Epoch 45 We Train Loss:0.9881, Val Loss:1.7164, Time Elapsed:109.1485 mins\n",
      "For Epoch 46 We Train Loss:0.9843, Val Loss:1.6976, Time Elapsed:111.4969 mins\n",
      "For Epoch 47 We Train Loss:0.9707, Val Loss:1.6726, Time Elapsed:113.8235 mins\n",
      "For Epoch 48 We Train Loss:0.9529, Val Loss:1.7202, Time Elapsed:116.1507 mins\n",
      "For Epoch 49 We Train Loss:0.9433, Val Loss:1.7241, Time Elapsed:118.5370 mins\n",
      "For Epoch 50 We Train Loss:0.9368, Val Loss:1.7293, Time Elapsed:120.8683 mins\n"
     ]
    }
   ],
   "source": [
    "output_metrics = training_loop(\n",
    "    model = seq_2_seq_model,\n",
    "    data_loader_train = train_iterator,\n",
    "    data_loader_val = test_iterator,\n",
    "    epochs = EPOCHS,\n",
    "    loss_criterion = criterion,\n",
    "    optim_alog = optimizer,\n",
    "    chkpt_file = chkpt_file,\n",
    "    final_load_file = final_load_file\n",
    ")"
   ]
  },
  {
   "cell_type": "code",
   "execution_count": 24,
   "metadata": {},
   "outputs": [
    {
     "data": {
      "image/png": "[encoded data removed]",
      "text/plain": [
       "<Figure size 1000x1000 with 1 Axes>"
      ]
     },
     "metadata": {},
     "output_type": "display_data"
    }
   ],
   "source": [
    "plot_metrics(EPOCHS, output_metrics)"
   ]
  },
  {
   "cell_type": "code",
   "execution_count": 25,
   "metadata": {},
   "outputs": [
    {
     "name": "stdout",
     "output_type": "stream",
     "text": [
      "Test BLEU Score:0.37414488622287007\n"
     ]
    }
   ],
   "source": [
    "print('Test BLEU Score:{0}'.format(score_bleu(test_data, seq_2_seq_model, english, french)))"
   ]
  },
  {
   "cell_type": "code",
   "execution_count": 26,
   "metadata": {},
   "outputs": [
    {
     "data": {
      "text/plain": [
       "<All keys matched successfully>"
      ]
     },
     "execution_count": 26,
     "metadata": {},
     "output_type": "execute_result"
    }
   ],
   "source": [
    "seq_2_seq_model.load_state_dict(torch.load(chkpt_file))"
   ]
  },
  {
   "cell_type": "code",
   "execution_count": 27,
   "metadata": {},
   "outputs": [
    {
     "name": "stdout",
     "output_type": "stream",
     "text": [
      "Test BLEU Score:0.36401380976447334\n"
     ]
    }
   ],
   "source": [
    "print('Test BLEU Score:{0}'.format(score_bleu(test_data, seq_2_seq_model, english, french)))"
   ]
  },
  {
   "cell_type": "code",
   "execution_count": 28,
   "metadata": {},
   "outputs": [],
   "source": [
    "metrics_df = pd.DataFrame(output_metrics)\n",
    "# metrics_df.to_csv('saved_files/attention_metrics.csv')"
   ]
  },
  {
   "cell_type": "code",
   "execution_count": 29,
   "metadata": {},
   "outputs": [],
   "source": [
    "bleu_score_results = score_bleu_by_length(test_data, seq_2_seq_model, english, french)\n",
    "bleu_score_results_df = pd.DataFrame(bleu_score_results)"
   ]
  },
  {
   "cell_type": "code",
   "execution_count": 30,
   "metadata": {},
   "outputs": [
    {
     "data": {
      "image/png": "[encoded data removed]",
      "text/plain": [
       "<Figure size 640x480 with 1 Axes>"
      ]
     },
     "metadata": {},
     "output_type": "display_data"
    }
   ],
   "source": [
    "plt.figure()\n",
    "plt.scatter(bleu_score_results_df[\"length\"], bleu_score_results_df[\"bleu_score\"])\n",
    "plt.ylabel(\"Bleu Score\")\n",
    "plt.xlabel(\"Sentence Length\")\n",
    "plt.show()"
   ]
  },
  {
   "cell_type": "code",
   "execution_count": null,
   "metadata": {},
   "outputs": [],
   "source": [
    "# print('Train BLEU Score:{0}'.format(score_bleu(train_data, seq_2_seq_model, english, french)))"
   ]
  },
  {
   "cell_type": "markdown",
   "metadata": {},
   "source": []
  }
 ],
 "metadata": {
  "kernelspec": {
   "display_name": "Python 3 (ipykernel)",
   "language": "python",
   "name": "python3"
  },
  "language_info": {
   "codemirror_mode": {
    "name": "ipython",
    "version": 3
   },
   "file_extension": ".py",
   "mimetype": "text/x-python",
   "name": "python",
   "nbconvert_exporter": "python",
   "pygments_lexer": "ipython3",
   "version": "3.10.6"
  }
 },
 "nbformat": 4,
 "nbformat_minor": 2
}
