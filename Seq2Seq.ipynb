{
 "cells": [
  {
   "cell_type": "markdown",
   "metadata": {},
   "source": [
    "# Sequence - To - Sequence"
   ]
  },
  {
   "cell_type": "code",
   "execution_count": null,
   "metadata": {},
   "outputs": [],
   "source": [
    "# ! pip install torchtext==0.6.0"
   ]
  },
  {
   "cell_type": "code",
   "execution_count": null,
   "metadata": {},
   "outputs": [],
   "source": [
    "# import locale\n",
    "# locale.getpreferredencoding = lambda: \"UTF-8\"\n",
    "\n",
    "# ! pip install -U spacy\n",
    "# ! python -m spacy download fr_core_news_sm\n",
    "# ! python -m spacy download en_core_web_sm"
   ]
  },
  {
   "cell_type": "code",
   "execution_count": 1,
   "metadata": {},
   "outputs": [
    {
     "name": "stderr",
     "output_type": "stream",
     "text": [
      "2023-07-04 00:47:54.014584: I tensorflow/core/platform/cpu_feature_guard.cc:193] This TensorFlow binary is optimized with oneAPI Deep Neural Network Library (oneDNN) to use the following CPU instructions in performance-critical operations:  AVX2 AVX_VNNI FMA\n",
      "To enable them in other operations, rebuild TensorFlow with the appropriate compiler flags.\n",
      "2023-07-04 00:47:54.099702: I tensorflow/core/util/port.cc:104] oneDNN custom operations are on. You may see slightly different numerical results due to floating-point round-off errors from different computation orders. To turn them off, set the environment variable `TF_ENABLE_ONEDNN_OPTS=0`.\n",
      "2023-07-04 00:47:54.427141: W tensorflow/compiler/xla/stream_executor/platform/default/dso_loader.cc:64] Could not load dynamic library 'libnvinfer.so.7'; dlerror: libnvinfer.so.7: cannot open shared object file: No such file or directory\n",
      "2023-07-04 00:47:54.427172: W tensorflow/compiler/xla/stream_executor/platform/default/dso_loader.cc:64] Could not load dynamic library 'libnvinfer_plugin.so.7'; dlerror: libnvinfer_plugin.so.7: cannot open shared object file: No such file or directory\n",
      "2023-07-04 00:47:54.427175: W tensorflow/compiler/tf2tensorrt/utils/py_utils.cc:38] TF-TRT Warning: Cannot dlopen some TensorRT libraries. If you would like to use Nvidia GPU with TensorRT, please make sure the missing libraries mentioned above are installed properly.\n",
      "2023-07-04 00:47:54.782533: I tensorflow/compiler/xla/stream_executor/cuda/cuda_gpu_executor.cc:981] successful NUMA node read from SysFS had negative value (-1), but there must be at least one NUMA node, so returning NUMA node zero\n",
      "2023-07-04 00:47:54.799021: I tensorflow/compiler/xla/stream_executor/cuda/cuda_gpu_executor.cc:981] successful NUMA node read from SysFS had negative value (-1), but there must be at least one NUMA node, so returning NUMA node zero\n",
      "2023-07-04 00:47:54.799116: I tensorflow/compiler/xla/stream_executor/cuda/cuda_gpu_executor.cc:981] successful NUMA node read from SysFS had negative value (-1), but there must be at least one NUMA node, so returning NUMA node zero\n"
     ]
    }
   ],
   "source": [
    "import torch\n",
    "import torchtext\n",
    "\n",
    "import numpy as np\n",
    "import pandas as pd\n",
    "import spacy\n",
    "import time\n",
    "import random\n",
    "\n",
    "import matplotlib.pyplot as plt\n",
    "import IPython.display as display\n",
    "from collections import defaultdict\n"
   ]
  },
  {
   "cell_type": "code",
   "execution_count": 2,
   "metadata": {},
   "outputs": [],
   "source": [
    "if torch.backends.mps.is_available():\n",
    "    DEVICE = torch.device(device='mps')\n",
    "elif torch.cuda.is_available():\n",
    "    DEVICE = torch.device(device='cuda')\n",
    "else:\n",
    "    DEVICE = torch.device(device='cpu')"
   ]
  },
  {
   "cell_type": "code",
   "execution_count": 3,
   "metadata": {},
   "outputs": [
    {
     "name": "stdout",
     "output_type": "stream",
     "text": [
      "cuda\n"
     ]
    }
   ],
   "source": [
    "print(DEVICE)"
   ]
  },
  {
   "cell_type": "markdown",
   "metadata": {},
   "source": [
    "### Preprocessing"
   ]
  },
  {
   "cell_type": "code",
   "execution_count": 4,
   "metadata": {},
   "outputs": [],
   "source": [
    "spacy_en = spacy.load('en_core_web_sm')\n",
    "spacy_fr = spacy.load('fr_core_news_sm')"
   ]
  },
  {
   "cell_type": "code",
   "execution_count": 5,
   "metadata": {},
   "outputs": [],
   "source": [
    "french = torchtext.data.Field(tokenize= lambda text: [token.text for token in spacy_en.tokenizer(text)],\n",
    "                              lower = True,\n",
    "                              init_token = '<sos>',\n",
    "                              eos_token = '<eos>')\n",
    "\n",
    "english = torchtext.data.Field(tokenize= lambda text: [token.text for token in spacy_fr.tokenizer(text)],\n",
    "                              lower = True,\n",
    "                              init_token = '<sos>',\n",
    "                              eos_token = '<eos>')"
   ]
  },
  {
   "cell_type": "code",
   "execution_count": 6,
   "metadata": {},
   "outputs": [],
   "source": [
    "fields = {\n",
    "    'English': ('eng', english),\n",
    "    'French': ('fre', french)\n",
    "\n",
    "}\n",
    "\n",
    "train_data, test_data = torchtext.data.TabularDataset.splits(\n",
    "    path='data/',\n",
    "    train='train_full.csv',\n",
    "    test = 'test_full.csv',\n",
    "    format='csv',\n",
    "    fields=fields\n",
    ")"
   ]
  },
  {
   "cell_type": "code",
   "execution_count": 7,
   "metadata": {},
   "outputs": [],
   "source": [
    "english.build_vocab(train_data, max_size = 10000, min_freq = 2)\n",
    "french.build_vocab(train_data, max_size = 10000, min_freq = 2)"
   ]
  },
  {
   "cell_type": "code",
   "execution_count": 8,
   "metadata": {},
   "outputs": [],
   "source": [
    "batch_size = 64\n",
    "train_iterator, test_iterator = torchtext.data.BucketIterator.splits(\n",
    "    (train_data, test_data),\n",
    "    batch_size = batch_size,\n",
    "    sort_within_batch = True, # Protizes to have examples are of similar length in a batch, because it reduces padding and save compute.\n",
    "    sort_key = lambda x: len(getattr(x, 'eng')), # Protizes to have examples are of similar length in a batch, because it reduces padding and save compute.\n",
    "    device=DEVICE\n",
    ")"
   ]
  },
  {
   "cell_type": "markdown",
   "metadata": {},
   "source": [
    "### Learning Loops"
   ]
  },
  {
   "cell_type": "code",
   "execution_count": 9,
   "metadata": {},
   "outputs": [],
   "source": [
    "pad_idx = french.vocab.stoi['<pad>']\n",
    "criterion = torch.nn.CrossEntropyLoss(ignore_index=pad_idx)"
   ]
  },
  {
   "cell_type": "code",
   "execution_count": 10,
   "metadata": {},
   "outputs": [],
   "source": [
    "def one_epoch_train(model: torch.nn.Module, data_loader_train: torch.utils.data.DataLoader,\n",
    "                    loss_criterion: torch.nn, optim_alog: torch.optim) -> tuple:\n",
    "    \"\"\"Function that trains the model for one epoch.\n",
    "\n",
    "    Args:\n",
    "        model (torch.nn.Module): Pytorch model we want to train.\n",
    "        data_loader_train (torch.utils.data.DataLoader): Pytorch dataloader that carries training data.\n",
    "        loss_criterion (torch.nn): Pytorch loss criteria on which we calculate loss.\n",
    "        optim_alog (torch.optim): Opimiztion algoritham that we use to update model weights.\n",
    "\n",
    "    Returns:\n",
    "        tuple: Tuple carrying Train loss and accuracy\n",
    "    \"\"\"\n",
    "    batch_loss_train = []\n",
    "    batch_counter = 0\n",
    "    for batch in data_loader_train:\n",
    "        input_text = batch.eng.to(DEVICE).permute(1,0)\n",
    "        target_text = batch.fre.to(DEVICE).permute(1,0)\n",
    "\n",
    "\n",
    "        # Enabling model training.\n",
    "        model.train(True)\n",
    "\n",
    "\n",
    "        #Setting gradients to zero to prevent gradient accumulation.\n",
    "        optim_alog.zero_grad()\n",
    "\n",
    "        # Forward pass.\n",
    "        y_pred_prob = model(input_text, target_text)\n",
    "        \n",
    "        y_pred_prob = y_pred_prob[:,1:,:].reshape(-1, y_pred_prob.shape[2])\n",
    "        target_text = target_text[:, 1:].reshape(-1)\n",
    "\n",
    "        loss = loss_criterion(y_pred_prob, target_text)\n",
    "\n",
    "        batch_loss_train.append(loss.item())\n",
    "\n",
    "        # Back Propagation\n",
    "        loss.backward()\n",
    "\n",
    "        # Gradient clipping to prevent exploding gradients\n",
    "        torch.nn.utils.clip_grad_norm_(model.parameters(), max_norm=1)\n",
    "\n",
    "        # Updating weights\n",
    "        optim_alog.step()\n",
    "        \n",
    "        batch_counter += 1\n",
    "\n",
    "        del(input_text)\n",
    "        del(target_text)\n",
    "\n",
    "    return sum(batch_loss_train)/batch_counter"
   ]
  },
  {
   "cell_type": "code",
   "execution_count": 11,
   "metadata": {},
   "outputs": [],
   "source": [
    "def inference(model: torch.nn.Module, data_loader_val: torch.utils.data.DataLoader, loss_criterion: torch.nn) -> tuple:\n",
    "    \"\"\"Function that calculates test accuracy\n",
    "\n",
    "    Args:\n",
    "        model (torch.nn.Module): Pytorch model we want to make inference on.\n",
    "        data_loader_val (torch.utils.data.DataLoader): Pytorch dataloader that carries validation data.\n",
    "        loss_criterion (torch.nn): Pytorch loss criteria on which we calculate loss.\n",
    "\n",
    "    Returns:\n",
    "        tuple: Tuple carrying Test loss and accuracy\n",
    "    \"\"\"\n",
    "\n",
    "    batch_loss_train = []\n",
    "    batch_counter = 0\n",
    "\n",
    "    for batch in data_loader_val:\n",
    "        input_text = batch.eng.to(DEVICE).permute(1,0)\n",
    "        target_text = batch.fre.to(DEVICE).permute(1,0)\n",
    "\n",
    "        # Disabiling model training.\n",
    "        model.train(False)\n",
    "\n",
    "        with torch.inference_mode():\n",
    "            # Forward Pass\n",
    "            y_pred_prob = model(input_text, target_text)\n",
    "\n",
    "            y_pred_prob = y_pred_prob[:,1:,:].reshape(-1, y_pred_prob.shape[2])\n",
    "            target_text = target_text[:, 1:].reshape(-1)\n",
    "\n",
    "            # Calculating Loss\n",
    "            loss = loss_criterion(y_pred_prob, target_text)\n",
    "            batch_loss_train.append(loss.item())\n",
    "\n",
    "        batch_counter += 1\n",
    "\n",
    "        del(input_text)\n",
    "        del(target_text)\n",
    "\n",
    "    return sum(batch_loss_train)/batch_counter"
   ]
  },
  {
   "cell_type": "code",
   "execution_count": 12,
   "metadata": {},
   "outputs": [],
   "source": [
    "def training_loop(\n",
    "    model: torch.nn.Module,\n",
    "    data_loader_train: torch.utils.data.DataLoader,\n",
    "    data_loader_val: torch.utils.data.DataLoader,\n",
    "    epochs:int,\n",
    "    loss_criterion: torch.nn,\n",
    "    optim_alog: torch.optim,\n",
    "    chkpt_file:str,\n",
    "    final_load_file:str\n",
    ")-> dict:\n",
    "    \"\"\"Function that trains the model for the given number of epochs\n",
    "\n",
    "    Args:\n",
    "        model (torch.nn.Module): Pytorch model we want to train.\n",
    "        data_loader_train (torch.utils.data.DataLoader): Pytorch dataloader that carries training data.\n",
    "        data_loader_val (torch.utils.data.DataLoader): Pytorch dataloader that carries validation data.\n",
    "        epochs (int): Count of EPOCHS\n",
    "        loss_criterion (torch.nn): Pytorch loss criteria on which we calculate loss.\n",
    "        optim_alog (torch.optim): Opimiztion algoritham that we use to update model weights.\n",
    "\n",
    "    Returns:\n",
    "        dict: A dictionary that carries the output metrics.\n",
    "    \"\"\"\n",
    "    start_time = time.time()\n",
    "\n",
    "    loss_train = []\n",
    "    loss_val = []\n",
    "    \n",
    "    best_loss_val = 1e5\n",
    "    # Loop that iterates over each EPOCH\n",
    "    for epoch in range(epochs):\n",
    "\n",
    "        #Train the model for one EPOCH\n",
    "        epoch_loss = one_epoch_train(model, data_loader_train, loss_criterion, optim_alog)\n",
    "        loss_train.append(epoch_loss)\n",
    "\n",
    "        # Caluclating Testing results\n",
    "        val_loss = inference(model, data_loader_val, loss_criterion)\n",
    "        loss_val.append(val_loss)\n",
    "\n",
    "        if val_loss < best_loss_val:\n",
    "            best_loss_val = val_loss\n",
    "            torch.save(model.state_dict(), chkpt_file)\n",
    "\n",
    "        if (epoch+1)%1 == 0:\n",
    "            print('For Epoch {} We Train Loss:{:.4f}, Val Loss:{:.4f}, Time Elapsed:{:.4f} mins'.format(epoch+1, epoch_loss,val_loss, (time.time() - start_time)/60))\n",
    "            \n",
    "    torch.save(model.state_dict(), final_load_file)\n",
    "    return {'training_loss':loss_train, 'val_loss':loss_val}"
   ]
  },
  {
   "cell_type": "code",
   "execution_count": 13,
   "metadata": {},
   "outputs": [],
   "source": [
    "def plot_metrics(epochs: int,metrics: dict) -> None:\n",
    "    \"\"\"Plot the graphs of Training and Testing Accuracy and Loss across Epoches\n",
    "\n",
    "    Args:\n",
    "        epochs (int): Number of Epochs\n",
    "        metrics (dict): A dictionary containing Test and Training datasets' Loss and accuracy\n",
    "    \"\"\"\n",
    "\n",
    "    plt.figure(figsize=(10,10))\n",
    "    plt.plot(list(range(epochs)), metrics['training_loss'])\n",
    "    plt.plot(list(range(epochs)), metrics['val_loss'])\n",
    "    plt.grid()\n",
    "    plt.legend(['Train', 'Test'])\n",
    "    plt.xlabel('Epochs')\n",
    "    plt.ylabel('Loss')\n",
    "    plt.title('Train and Validation loss across epochs')\n",
    "\n",
    "    plt.show()"
   ]
  },
  {
   "cell_type": "code",
   "execution_count": 14,
   "metadata": {},
   "outputs": [],
   "source": [
    "def sentence_translator(model: torch.nn.Module, sentence: str, src_corpus: torchtext.data.Field, tgt_corpus: torchtext.data.Field) -> list:\n",
    "    \"\"\"Given the model and english sentence it will translate the english sentence to french.\n",
    "\n",
    "    Args:\n",
    "        model (torch.nn.Model): Pytorch Model\n",
    "        sentence (str): English sentence\n",
    "        src_corpus (torchtext.data.Field): English Corpus (Source Torchtext data field)\n",
    "        tgt_corpus (torchtext.data.Field): French Corpus (Destination Torchtext data field)\n",
    "\n",
    "    Returns:\n",
    "        list: List of words \n",
    "    \"\"\"\n",
    "    \n",
    "    # Checking If the sentence is string or not.\n",
    "    if isinstance(sentence, str):\n",
    "        tokens = [token.text.lower() for token in spacy_en(sentence)]\n",
    "    else:\n",
    "        tokens = [token.lower() for token in sentence]\n",
    "        \n",
    "    # Attaching <SOS> token at the beginning of the source sentence\n",
    "    tokens.insert(0, src_corpus.init_token)\n",
    "    \n",
    "    # Attaching <EOS> token at the end of the source sentence\n",
    "    tokens.append(src_corpus.eos_token)\n",
    "    \n",
    "    # Converting the soruce text to sentence vector \n",
    "    sentence_vector =[]\n",
    "    for token in tokens:\n",
    "        sentence_vector.append(src_corpus.vocab.stoi[token])\n",
    "        \n",
    "    # Creating a tensor from the vector\n",
    "    sentence_tensor = torch.tensor(sentence_vector, dtype=torch.long).unsqueeze(1).to(DEVICE).permute(1,0)\n",
    "    \n",
    "    # Performing encoding\n",
    "    with torch.inference_mode():\n",
    "        hidden_state, cell_state = model.encoder(sentence_tensor)\n",
    "        \n",
    "    # Attaching <SOS> token at the beginning of the destination sentence. \n",
    "    outputs = [tgt_corpus.vocab.stoi[\"<sos>\"]]\n",
    "    \n",
    "    # Iteration over and producing the sequnce of words of the translated sentence. \n",
    "    for _ in range(30):\n",
    "        \n",
    "        # Getting previous word to pass it to decoder\n",
    "        prev_word = torch.tensor([outputs[-1]], dtype=torch.long).to(DEVICE)\n",
    "        \n",
    "        # Performing Decoding\n",
    "        with torch.inference_mode():\n",
    "            output, hidden_state, cell_state = model.decoder(prev_word, hidden_state, cell_state)\n",
    "            # Predicting the word\n",
    "            word_pred = torch.argmax(output, axis=1).item()\n",
    "            \n",
    "        # Append the Predicted word \n",
    "        outputs.append(word_pred)\n",
    "        \n",
    "        # On reaching end of the sentence break the loop\n",
    "        if word_pred == tgt_corpus.vocab.stoi[\"<eos>\"]:\n",
    "            break\n",
    "    \n",
    "    # Converting translated sentence vector to translated sentence.\n",
    "    translated_sentence = []\n",
    "    for idx in outputs:\n",
    "        translated_sentence.append(tgt_corpus.vocab.itos[idx])\n",
    "\n",
    "    return translated_sentence[1:-1]"
   ]
  },
  {
   "cell_type": "code",
   "execution_count": 15,
   "metadata": {},
   "outputs": [],
   "source": [
    "def score_bleu(dataset: torchtext.data.TabularDataset.splits, model: torch.nn.Module, src_corpus: torchtext.data.Field, tgt_corpus: torchtext.data.Field) -> int:\n",
    "    \"\"\" Get BLeU score of the given dataset and its translation.\n",
    "\n",
    "    Args:\n",
    "        dataset (torchtext.data.TabularDataset.splits): torch text data set\n",
    "        model (torch.nn.Model): pytorch model\n",
    "        src_corpus (torchtext.data.Field): English Corpus (Source Torchtext data field)\n",
    "        tgt_corpus (torchtext.data.Field): French Corpus (Destination Torchtext data field)\n",
    "\n",
    "    Returns:\n",
    "        int: Bleu score of the translation.\n",
    "    \"\"\"\n",
    "    targets = []\n",
    "    outputs = []\n",
    "\n",
    "    for translation_record in dataset:\n",
    "        source_sentence = vars(translation_record)[\"eng\"]\n",
    "        target_sentence = vars(translation_record)[\"fre\"]\n",
    "\n",
    "        translated_sentence = sentence_translator(model, source_sentence, src_corpus, tgt_corpus)\n",
    "\n",
    "        targets.append([target_sentence])\n",
    "        outputs.append(translated_sentence)\n",
    "\n",
    "    return torchtext.data.metrics.bleu_score(outputs, targets)"
   ]
  },
  {
   "cell_type": "code",
   "execution_count": 16,
   "metadata": {},
   "outputs": [],
   "source": [
    "def score_bleu_by_length(\n",
    "    dataset: torchtext.data.TabularDataset.splits,\n",
    "    model: torch.nn.Module,\n",
    "    src_corpus: torchtext.data.Field,\n",
    "    tgt_corpus: torchtext.data.Field\n",
    ") -> dict:\n",
    "    \"\"\" Get BLeU score of the given dataset and its translation.\n",
    "\n",
    "    Args:\n",
    "        dataset (torchtext.data.TabularDataset.splits): torch text data set\n",
    "        model (torch.nn.Model): pytorch model\n",
    "        src_corpus (torchtext.data.Field): English Corpus (Source Torchtext data field)\n",
    "        tgt_corpus (torchtext.data.Field): French Corpus (Destination Torchtext data field)\n",
    "\n",
    "    Returns:\n",
    "        dict: Bleu score of the translation.\n",
    "    \"\"\"\n",
    "    data_map = {}\n",
    "\n",
    "    for translation_record in dataset:\n",
    "        source_sentence = vars(translation_record)[\"eng\"]\n",
    "        target_sentence = vars(translation_record)[\"fre\"]\n",
    "\n",
    "        translated_sentence = sentence_translator(model, source_sentence, src_corpus, tgt_corpus)\n",
    "        \n",
    "        src_length = len(source_sentence)\n",
    "        \n",
    "        if data_map.get(src_length) is None:\n",
    "            data_map[src_length] = {\n",
    "                \"targets\": [],\n",
    "                \"outputs\": []\n",
    "            }\n",
    "\n",
    "        data_map[src_length][\"targets\"].append([target_sentence])\n",
    "        data_map[src_length][\"outputs\"].append(translated_sentence)\n",
    "    \n",
    "    results = {\n",
    "        \"length\": [],\n",
    "        \"count\": [],\n",
    "        \"bleu_score\": []\n",
    "    }\n",
    "    for length, data in data_map.items():\n",
    "        bleu_score = torchtext.data.metrics.bleu_score(data[\"outputs\"], data[\"targets\"])\n",
    "        \n",
    "        results[\"length\"].append(length)\n",
    "        results[\"count\"].append(len(data[\"targets\"]))\n",
    "        results[\"bleu_score\"].append(bleu_score)\n",
    "        \n",
    "    return results "
   ]
  },
  {
   "cell_type": "markdown",
   "metadata": {},
   "source": [
    "## Model Building"
   ]
  },
  {
   "cell_type": "markdown",
   "metadata": {},
   "source": [
    "#### Encoder"
   ]
  },
  {
   "cell_type": "code",
   "execution_count": 17,
   "metadata": {},
   "outputs": [],
   "source": [
    "class Encoder(torch.nn.Module):\n",
    "    \"\"\"\n",
    "    Encode the original sentence to context vector\n",
    "    \n",
    "    Args:\n",
    "        input_size (int): Input Dimension\n",
    "        embedding_size (int): Word Embedding Size\n",
    "        hidden_size (int): RNN Output Size\n",
    "        num_layers (int): Num of Layers of RNN\n",
    "        droput_prob (float): Dropout Probability\n",
    "    \"\"\"\n",
    "    def __init__(\n",
    "        self,\n",
    "        input_size: int,\n",
    "        embedding_size: int,\n",
    "        hidden_size: int,\n",
    "        num_layers: int,\n",
    "        droput_prob: float\n",
    "    ):\n",
    "        super(Encoder, self).__init__()\n",
    "        self.hidden_size = hidden_size\n",
    "        self.num_layers = num_layers\n",
    "\n",
    "        self.dropout = torch.nn.Dropout(droput_prob)\n",
    "        self.embedding = torch.nn.Embedding(input_size, embedding_size)\n",
    "\n",
    "        self.lstm = torch.nn.LSTM(embedding_size, hidden_size, num_layers, batch_first=True, dropout=droput_prob)\n",
    "\n",
    "    def forward(self, x):\n",
    "        word_embedding = self.dropout(self.embedding(x))\n",
    "\n",
    "        _ , (hidden_state, cell_state) = self.lstm(word_embedding)\n",
    "\n",
    "        return hidden_state, cell_state"
   ]
  },
  {
   "cell_type": "markdown",
   "metadata": {},
   "source": [
    "#### Decoder"
   ]
  },
  {
   "cell_type": "code",
   "execution_count": 18,
   "metadata": {},
   "outputs": [],
   "source": [
    "class Decoder(torch.nn.Module):\n",
    "    \"\"\"\n",
    "    Decode the context vector to target sentence word by word\n",
    "    \n",
    "    Args:\n",
    "        input_size (int): Input Dimension\n",
    "        embedding_size (int): Word Embedding Size\n",
    "        hidden_size (int): RNN Output Size\n",
    "        output_size (int): Target language Vocab Size\n",
    "        num_layers (int): Num of Layers of RNN\n",
    "        droput_prob (float): Dropout Probability\n",
    "    \"\"\"\n",
    "    def __init__(\n",
    "        self,\n",
    "        input_size: int,\n",
    "        embedding_size: int,\n",
    "        hidden_size: int,\n",
    "        output_size: int,\n",
    "        num_layers: int,\n",
    "        droput_prob: float\n",
    "    ):\n",
    "        super(Decoder, self).__init__()\n",
    "        self.hidden_size = hidden_size\n",
    "        self.num_layers = num_layers\n",
    "\n",
    "        self.droput = torch.nn.Dropout(droput_prob)\n",
    "        self.embedding = torch.nn.Embedding(input_size, embedding_size)\n",
    "\n",
    "        self.lstm = torch.nn.LSTM(embedding_size, hidden_size, num_layers, batch_first=True, dropout=droput_prob)\n",
    "        self.linear = torch.nn.Linear(hidden_size, output_size)\n",
    "\n",
    "    def forward(self, x, hidden_state, cell_state):\n",
    "        x = x.unsqueeze(1)\n",
    "\n",
    "        word_embedding = self.droput(self.embedding(x))\n",
    "        \n",
    "        output, (hidden_state, cell_state) = self.lstm(word_embedding, (hidden_state, cell_state))\n",
    "\n",
    "        pred = self.linear(output)        \n",
    "        pred = pred.squeeze(1)\n",
    "     \n",
    "        return pred, hidden_state, cell_state"
   ]
  },
  {
   "cell_type": "markdown",
   "metadata": {},
   "source": [
    "#### Seq-2-Seq"
   ]
  },
  {
   "cell_type": "code",
   "execution_count": 19,
   "metadata": {},
   "outputs": [],
   "source": [
    "class Seq2Seq(torch.nn.Module):\n",
    "    \"\"\"\n",
    "    Takes Src texts and translates into target word by word\n",
    "    \n",
    "    Args:\n",
    "        input_size_encoder (int): Encoder Input Dimension\n",
    "        encoder_embedding_size (int): Encoder Word Embedding Size\n",
    "        input_size_decoder (int): Decoder Input Dimension\n",
    "        decoder_embedding_size (int): Decoder Word Embedding Size\n",
    "        hidden_size (int): RNN Output Size\n",
    "        output_size (int): Target language Vocab Size\n",
    "        num_layers (int): Num of Layers of RNN\n",
    "        encoder_dropout (float): Encoder Dropout Probability\n",
    "        decoder_dropout (float): Decoder Dropout Probability\n",
    "        word_alignment_ratio(float): Word Alignment Ratio\n",
    "    \"\"\"\n",
    "    def __init__(\n",
    "        self,\n",
    "        input_size_encoder: int,\n",
    "        encoder_embedding_size: int,\n",
    "        input_size_decoder: int ,\n",
    "        decoder_embedding_size: int,\n",
    "        hidden_size: int, \n",
    "        num_layers: int,\n",
    "        output_size: int,\n",
    "        encoder_dropout: float,\n",
    "        decoder_dropout: float,\n",
    "        word_alignment_ratio=0.6\n",
    "    ):\n",
    "        \n",
    "        super(Seq2Seq, self).__init__()\n",
    "\n",
    "        self.encoder = Encoder(\n",
    "            input_size_encoder,\n",
    "            encoder_embedding_size,\n",
    "            hidden_size, num_layers,\n",
    "            encoder_dropout\n",
    "        ).to(DEVICE)\n",
    "        \n",
    "        self.decoder = Decoder(\n",
    "            input_size_decoder,\n",
    "            decoder_embedding_size,\n",
    "            hidden_size,\n",
    "            output_size,\n",
    "            num_layers,\n",
    "            decoder_dropout\n",
    "        ).to(DEVICE)\n",
    "        \n",
    "        # Probability Mass Function defined for the word_selection we should choose\n",
    "        self.next_word_selection_actions = [\n",
    "            'Guess',\n",
    "            'Truth'\n",
    "        ]\n",
    "        self.next_word_selection_probability_distribution = [\n",
    "            word_alignment_ratio,\n",
    "            1 - word_alignment_ratio\n",
    "        ]\n",
    "\n",
    "    def forward(self, src_text, tgt_text):\n",
    "\n",
    "        batch_size = src_text.shape[0]\n",
    "        target_len = tgt_text.shape[1]\n",
    "        target_vocab_size = len(french.vocab)\n",
    "\n",
    "        outputs = torch.zeros(batch_size, target_len,target_vocab_size).to(device=DEVICE)\n",
    "\n",
    "        hidden_state, cell_state = self.encoder(src_text)\n",
    "        \n",
    "        # Grab Start Token\n",
    "        x = tgt_text[:, 0]\n",
    "\n",
    "        for t in range(1, target_len):\n",
    "            output, hidden_state, cell_state = self.decoder(x, hidden_state, cell_state)\n",
    "            outputs[:, t, :] = output\n",
    "            \n",
    "            # Sampling type word to select based on the above defined Probability Mass Function.\n",
    "            word_to_choose = np.random.choice(\n",
    "                a = self.next_word_selection_actions,\n",
    "                size=1, \n",
    "                p=self.next_word_selection_probability_distribution\n",
    "            )\n",
    "            \n",
    "            if word_to_choose == 'Guess':\n",
    "                x = torch.argmax(output, dim=1)\n",
    "            else:\n",
    "                x = tgt_text[:,t]\n",
    "\n",
    "        return outputs"
   ]
  },
  {
   "cell_type": "code",
   "execution_count": 20,
   "metadata": {},
   "outputs": [],
   "source": [
    "seq_2_seq_model = Seq2Seq(\n",
    "    input_size_encoder=len(english.vocab),\n",
    "    encoder_embedding_size = 300, \n",
    "    input_size_decoder = len(french.vocab),\n",
    "    decoder_embedding_size = 300,\n",
    "    hidden_size = 512, \n",
    "    num_layers = 2,\n",
    "    output_size = len(french.vocab),\n",
    "    encoder_dropout = 0.5,\n",
    "    decoder_dropout = 0.5\n",
    ").to(DEVICE)"
   ]
  },
  {
   "cell_type": "code",
   "execution_count": 21,
   "metadata": {},
   "outputs": [],
   "source": [
    "chkpt_file = 'saved_files/s2s_best.pt'\n",
    "final_load_file = 'saved_files/s2s_final.pt'"
   ]
  },
  {
   "cell_type": "code",
   "execution_count": 22,
   "metadata": {},
   "outputs": [],
   "source": [
    "EPOCHS = 50\n",
    "optimizer = torch.optim.Adam(seq_2_seq_model.parameters(), lr=3e-4)"
   ]
  },
  {
   "cell_type": "code",
   "execution_count": 23,
   "metadata": {},
   "outputs": [
    {
     "name": "stdout",
     "output_type": "stream",
     "text": [
      "For Epoch 1 We Train Loss:4.6696, Val Loss:3.9323, Time Elapsed:2.2641 mins\n",
      "For Epoch 2 We Train Loss:3.7319, Val Loss:3.3810, Time Elapsed:4.5380 mins\n",
      "For Epoch 3 We Train Loss:3.2961, Val Loss:3.0283, Time Elapsed:6.8776 mins\n",
      "For Epoch 4 We Train Loss:2.9998, Val Loss:2.7847, Time Elapsed:9.1744 mins\n",
      "For Epoch 5 We Train Loss:2.7730, Val Loss:2.6188, Time Elapsed:11.4505 mins\n",
      "For Epoch 6 We Train Loss:2.5886, Val Loss:2.4760, Time Elapsed:13.7190 mins\n",
      "For Epoch 7 We Train Loss:2.4462, Val Loss:2.3592, Time Elapsed:16.0002 mins\n",
      "For Epoch 8 We Train Loss:2.3204, Val Loss:2.2901, Time Elapsed:18.2890 mins\n",
      "For Epoch 9 We Train Loss:2.2135, Val Loss:2.2349, Time Elapsed:20.5445 mins\n",
      "For Epoch 10 We Train Loss:2.1238, Val Loss:2.1655, Time Elapsed:22.8688 mins\n",
      "For Epoch 11 We Train Loss:2.0472, Val Loss:2.1034, Time Elapsed:25.1187 mins\n",
      "For Epoch 12 We Train Loss:1.9717, Val Loss:2.0860, Time Elapsed:27.3953 mins\n",
      "For Epoch 13 We Train Loss:1.9072, Val Loss:2.0552, Time Elapsed:29.6483 mins\n",
      "For Epoch 14 We Train Loss:1.8516, Val Loss:2.0165, Time Elapsed:31.9672 mins\n",
      "For Epoch 15 We Train Loss:1.7993, Val Loss:2.0096, Time Elapsed:34.2241 mins\n",
      "For Epoch 16 We Train Loss:1.7534, Val Loss:1.9989, Time Elapsed:36.4974 mins\n",
      "For Epoch 17 We Train Loss:1.7039, Val Loss:1.9619, Time Elapsed:38.7676 mins\n",
      "For Epoch 18 We Train Loss:1.6667, Val Loss:1.9547, Time Elapsed:41.0411 mins\n",
      "For Epoch 19 We Train Loss:1.6300, Val Loss:1.9475, Time Elapsed:43.3033 mins\n",
      "For Epoch 20 We Train Loss:1.5895, Val Loss:1.9247, Time Elapsed:45.5685 mins\n",
      "For Epoch 21 We Train Loss:1.5550, Val Loss:1.9255, Time Elapsed:47.8208 mins\n",
      "For Epoch 22 We Train Loss:1.5263, Val Loss:1.9065, Time Elapsed:50.0785 mins\n",
      "For Epoch 23 We Train Loss:1.4976, Val Loss:1.8840, Time Elapsed:52.3400 mins\n",
      "For Epoch 24 We Train Loss:1.4691, Val Loss:1.9035, Time Elapsed:54.5981 mins\n",
      "For Epoch 25 We Train Loss:1.4377, Val Loss:1.9189, Time Elapsed:56.8580 mins\n",
      "For Epoch 26 We Train Loss:1.4206, Val Loss:1.8534, Time Elapsed:59.1301 mins\n",
      "For Epoch 27 We Train Loss:1.3962, Val Loss:1.8498, Time Elapsed:61.3964 mins\n",
      "For Epoch 28 We Train Loss:1.3777, Val Loss:1.8518, Time Elapsed:63.6623 mins\n",
      "For Epoch 29 We Train Loss:1.3510, Val Loss:1.8663, Time Elapsed:65.9422 mins\n",
      "For Epoch 30 We Train Loss:1.3281, Val Loss:1.8808, Time Elapsed:68.2206 mins\n",
      "For Epoch 31 We Train Loss:1.3124, Val Loss:1.8577, Time Elapsed:70.5731 mins\n",
      "For Epoch 32 We Train Loss:1.2904, Val Loss:1.8967, Time Elapsed:72.8551 mins\n",
      "For Epoch 33 We Train Loss:1.2702, Val Loss:1.8763, Time Elapsed:75.1497 mins\n",
      "For Epoch 34 We Train Loss:1.2483, Val Loss:1.8560, Time Elapsed:77.4403 mins\n",
      "For Epoch 35 We Train Loss:1.2345, Val Loss:1.8576, Time Elapsed:79.7434 mins\n",
      "For Epoch 36 We Train Loss:1.2208, Val Loss:1.8429, Time Elapsed:82.1157 mins\n",
      "For Epoch 37 We Train Loss:1.2058, Val Loss:1.8818, Time Elapsed:84.4372 mins\n",
      "For Epoch 38 We Train Loss:1.1984, Val Loss:1.9010, Time Elapsed:86.8402 mins\n",
      "For Epoch 39 We Train Loss:1.1803, Val Loss:1.8759, Time Elapsed:89.2379 mins\n",
      "For Epoch 40 We Train Loss:1.1650, Val Loss:1.8637, Time Elapsed:91.5328 mins\n",
      "For Epoch 41 We Train Loss:1.1465, Val Loss:1.9194, Time Elapsed:93.8723 mins\n",
      "For Epoch 42 We Train Loss:1.1351, Val Loss:1.8865, Time Elapsed:96.2220 mins\n",
      "For Epoch 43 We Train Loss:1.1252, Val Loss:1.8952, Time Elapsed:98.4962 mins\n",
      "For Epoch 44 We Train Loss:1.1053, Val Loss:1.8949, Time Elapsed:100.7745 mins\n",
      "For Epoch 45 We Train Loss:1.1005, Val Loss:1.9202, Time Elapsed:103.0491 mins\n",
      "For Epoch 46 We Train Loss:1.0847, Val Loss:1.8663, Time Elapsed:105.3285 mins\n",
      "For Epoch 47 We Train Loss:1.0735, Val Loss:1.8850, Time Elapsed:107.6744 mins\n",
      "For Epoch 48 We Train Loss:1.0659, Val Loss:1.8995, Time Elapsed:109.9494 mins\n",
      "For Epoch 49 We Train Loss:1.0563, Val Loss:1.9454, Time Elapsed:112.2276 mins\n",
      "For Epoch 50 We Train Loss:1.0393, Val Loss:1.8904, Time Elapsed:114.5896 mins\n"
     ]
    }
   ],
   "source": [
    "output_metrics = training_loop(\n",
    "    model = seq_2_seq_model,\n",
    "    data_loader_train = train_iterator,\n",
    "    data_loader_val = test_iterator,\n",
    "    epochs = EPOCHS, \n",
    "    loss_criterion = criterion, \n",
    "    optim_alog = optimizer,\n",
    "    chkpt_file = chkpt_file,\n",
    "    final_load_file = final_load_file\n",
    ")"
   ]
  },
  {
   "cell_type": "code",
   "execution_count": 24,
   "metadata": {},
   "outputs": [
    {
     "data": {
      "image/png": "[encoded data removed]",
      "text/plain": [
       "<Figure size 1000x1000 with 1 Axes>"
      ]
     },
     "metadata": {},
     "output_type": "display_data"
    }
   ],
   "source": [
    "plot_metrics(EPOCHS, output_metrics)"
   ]
  },
  {
   "cell_type": "code",
   "execution_count": 25,
   "metadata": {},
   "outputs": [
    {
     "name": "stdout",
     "output_type": "stream",
     "text": [
      "Test BLEU Score:0.36962331465309584\n"
     ]
    }
   ],
   "source": [
    "print('Test BLEU Score:{0}'.format(score_bleu(test_data, seq_2_seq_model, english, french)))"
   ]
  },
  {
   "cell_type": "code",
   "execution_count": 28,
   "metadata": {},
   "outputs": [],
   "source": [
    "metrics_df = pd.DataFrame(output_metrics)\n",
    "metrics_df.to_csv('saved_files/s2s_metrics.csv')"
   ]
  },
  {
   "cell_type": "code",
   "execution_count": 29,
   "metadata": {},
   "outputs": [],
   "source": [
    "bleu_score_results = score_bleu_by_length(test_data, seq_2_seq_model, english, french)\n",
    "bleu_score_results_df = pd.DataFrame(bleu_score_results)\n",
    "bleu_score_results_df.to_csv('saved_files/s2s_bleu.csv')"
   ]
  },
  {
   "cell_type": "code",
   "execution_count": 30,
   "metadata": {},
   "outputs": [
    {
     "data": {
      "image/png": "[encoded data removed]",
      "text/plain": [
       "<Figure size 640x480 with 1 Axes>"
      ]
     },
     "metadata": {},
     "output_type": "display_data"
    }
   ],
   "source": [
    "plt.figure()\n",
    "plt.scatter(bleu_score_results_df[\"length\"], bleu_score_results_df[\"bleu_score\"])\n",
    "plt.ylabel(\"Bleu Score\")\n",
    "plt.xlabel(\"Sentence Length\")\n",
    "plt.show()"
   ]
  },
  {
   "cell_type": "code",
   "execution_count": null,
   "metadata": {},
   "outputs": [],
   "source": [
    "# print('Train BLEU Score:{0}'.format(score_bleu(train_data, seq_2_seq_model, english, french)))"
   ]
  },
  {
   "cell_type": "markdown",
   "metadata": {},
   "source": []
  }
 ],
 "metadata": {
  "kernelspec": {
   "display_name": "Python 3 (ipykernel)",
   "language": "python",
   "name": "python3"
  },
  "language_info": {
   "codemirror_mode": {
    "name": "ipython",
    "version": 3
   },
   "file_extension": ".py",
   "mimetype": "text/x-python",
   "name": "python",
   "nbconvert_exporter": "python",
   "pygments_lexer": "ipython3",
   "version": "3.10.6"
  }
 },
 "nbformat": 4,
 "nbformat_minor": 2
}
